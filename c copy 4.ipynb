{
 "cells": [
  {
   "cell_type": "code",
   "execution_count": 1,
   "metadata": {},
   "outputs": [
    {
     "name": "stdout",
     "output_type": "stream",
     "text": [
      "Requirement already satisfied: openpyxl in c:\\users\\74860\\kanenv\\lib\\site-packages (3.1.5)\n",
      "Requirement already satisfied: et-xmlfile in c:\\users\\74860\\kanenv\\lib\\site-packages (from openpyxl) (1.1.0)\n"
     ]
    },
    {
     "name": "stderr",
     "output_type": "stream",
     "text": [
      "\n",
      "[notice] A new release of pip is available: 24.1 -> 24.2\n",
      "[notice] To update, run: python.exe -m pip install --upgrade pip\n"
     ]
    }
   ],
   "source": [
    "!pip install openpyxl"
   ]
  },
  {
   "cell_type": "code",
   "execution_count": 1,
   "metadata": {},
   "outputs": [
    {
     "name": "stdout",
     "output_type": "stream",
     "text": [
      "   温度，oC  频率，Hz    磁芯损耗，w/m3 励磁波形  0（磁通密度B，T）         1         2         3  \\\n",
      "0     25  50030  1997.955250  正弦波    0.000213  0.000389  0.000566  0.000743   \n",
      "1     25  50020  2427.749830  正弦波   -0.000551 -0.000358 -0.000165  0.000028   \n",
      "2     25  50020  3332.725760  正弦波   -0.003780 -0.003564 -0.003349 -0.003134   \n",
      "3     25  50020  4502.908007  正弦波   -0.000511 -0.000267 -0.000023  0.000222   \n",
      "4     25  50030  6063.023248  正弦波    0.000458  0.000732  0.001007  0.001281   \n",
      "\n",
      "          4         5  ...      1014      1015      1016      1017      1018  \\\n",
      "0  0.000919  0.001096  ... -0.001551 -0.001374 -0.001198 -0.001022 -0.000846   \n",
      "1  0.000221  0.000413  ... -0.002476 -0.002284 -0.002091 -0.001899 -0.001707   \n",
      "2 -0.002919 -0.002704  ... -0.005927 -0.005713 -0.005499 -0.005285 -0.005070   \n",
      "3  0.000466  0.000711  ... -0.002950 -0.002707 -0.002463 -0.002220 -0.001976   \n",
      "4  0.001555  0.001830  ... -0.002290 -0.002016 -0.001741 -0.001466 -0.001192   \n",
      "\n",
      "       1019      1020      1021      1022      1023  \n",
      "0 -0.000669 -0.000492 -0.000316 -0.000140  0.000036  \n",
      "1 -0.001515 -0.001322 -0.001129 -0.000937 -0.000744  \n",
      "2 -0.004855 -0.004640 -0.004425 -0.004210 -0.003995  \n",
      "3 -0.001732 -0.001488 -0.001244 -0.001000 -0.000756  \n",
      "4 -0.000917 -0.000642 -0.000367 -0.000092  0.000183  \n",
      "\n",
      "[5 rows x 1028 columns]\n"
     ]
    }
   ],
   "source": [
    "import pandas as pd\n",
    "import torch\n",
    "from sklearn.model_selection import train_test_split\n",
    "from torch.utils.data import Dataset, TensorDataset\n",
    "# 指定文件路径\n",
    "file_path = '附件一（训练集）.xlsx'\n",
    "\n",
    "# 使用pandas的read_excel函数读取数据\n",
    "df = pd.read_excel(file_path)\n",
    "\n",
    "# 显示数据框架的前几行，以确保数据被正确读取\n",
    "print(df.head())"
   ]
  },
  {
   "cell_type": "code",
   "execution_count": 2,
   "metadata": {},
   "outputs": [
    {
     "data": {
      "text/html": [
       "<div>\n",
       "<style scoped>\n",
       "    .dataframe tbody tr th:only-of-type {\n",
       "        vertical-align: middle;\n",
       "    }\n",
       "\n",
       "    .dataframe tbody tr th {\n",
       "        vertical-align: top;\n",
       "    }\n",
       "\n",
       "    .dataframe thead th {\n",
       "        text-align: right;\n",
       "    }\n",
       "</style>\n",
       "<table border=\"1\" class=\"dataframe\">\n",
       "  <thead>\n",
       "    <tr style=\"text-align: right;\">\n",
       "      <th></th>\n",
       "      <th>温度，oC</th>\n",
       "      <th>频率，Hz</th>\n",
       "      <th>磁芯损耗，w/m3</th>\n",
       "      <th>励磁波形</th>\n",
       "      <th>0（磁通密度B，T）</th>\n",
       "      <th>1</th>\n",
       "      <th>2</th>\n",
       "      <th>3</th>\n",
       "      <th>4</th>\n",
       "      <th>5</th>\n",
       "      <th>...</th>\n",
       "      <th>1014</th>\n",
       "      <th>1015</th>\n",
       "      <th>1016</th>\n",
       "      <th>1017</th>\n",
       "      <th>1018</th>\n",
       "      <th>1019</th>\n",
       "      <th>1020</th>\n",
       "      <th>1021</th>\n",
       "      <th>1022</th>\n",
       "      <th>1023</th>\n",
       "    </tr>\n",
       "  </thead>\n",
       "  <tbody>\n",
       "    <tr>\n",
       "      <th>0</th>\n",
       "      <td>25</td>\n",
       "      <td>50030</td>\n",
       "      <td>1997.955250</td>\n",
       "      <td>正弦波</td>\n",
       "      <td>0.000213</td>\n",
       "      <td>0.000389</td>\n",
       "      <td>0.000566</td>\n",
       "      <td>0.000743</td>\n",
       "      <td>0.000919</td>\n",
       "      <td>0.001096</td>\n",
       "      <td>...</td>\n",
       "      <td>-0.001551</td>\n",
       "      <td>-0.001374</td>\n",
       "      <td>-0.001198</td>\n",
       "      <td>-0.001022</td>\n",
       "      <td>-0.000846</td>\n",
       "      <td>-0.000669</td>\n",
       "      <td>-0.000492</td>\n",
       "      <td>-0.000316</td>\n",
       "      <td>-0.000140</td>\n",
       "      <td>0.000036</td>\n",
       "    </tr>\n",
       "    <tr>\n",
       "      <th>1</th>\n",
       "      <td>25</td>\n",
       "      <td>50020</td>\n",
       "      <td>2427.749830</td>\n",
       "      <td>正弦波</td>\n",
       "      <td>-0.000551</td>\n",
       "      <td>-0.000358</td>\n",
       "      <td>-0.000165</td>\n",
       "      <td>0.000028</td>\n",
       "      <td>0.000221</td>\n",
       "      <td>0.000413</td>\n",
       "      <td>...</td>\n",
       "      <td>-0.002476</td>\n",
       "      <td>-0.002284</td>\n",
       "      <td>-0.002091</td>\n",
       "      <td>-0.001899</td>\n",
       "      <td>-0.001707</td>\n",
       "      <td>-0.001515</td>\n",
       "      <td>-0.001322</td>\n",
       "      <td>-0.001129</td>\n",
       "      <td>-0.000937</td>\n",
       "      <td>-0.000744</td>\n",
       "    </tr>\n",
       "    <tr>\n",
       "      <th>2</th>\n",
       "      <td>25</td>\n",
       "      <td>50020</td>\n",
       "      <td>3332.725760</td>\n",
       "      <td>正弦波</td>\n",
       "      <td>-0.003780</td>\n",
       "      <td>-0.003564</td>\n",
       "      <td>-0.003349</td>\n",
       "      <td>-0.003134</td>\n",
       "      <td>-0.002919</td>\n",
       "      <td>-0.002704</td>\n",
       "      <td>...</td>\n",
       "      <td>-0.005927</td>\n",
       "      <td>-0.005713</td>\n",
       "      <td>-0.005499</td>\n",
       "      <td>-0.005285</td>\n",
       "      <td>-0.005070</td>\n",
       "      <td>-0.004855</td>\n",
       "      <td>-0.004640</td>\n",
       "      <td>-0.004425</td>\n",
       "      <td>-0.004210</td>\n",
       "      <td>-0.003995</td>\n",
       "    </tr>\n",
       "    <tr>\n",
       "      <th>3</th>\n",
       "      <td>25</td>\n",
       "      <td>50020</td>\n",
       "      <td>4502.908007</td>\n",
       "      <td>正弦波</td>\n",
       "      <td>-0.000511</td>\n",
       "      <td>-0.000267</td>\n",
       "      <td>-0.000023</td>\n",
       "      <td>0.000222</td>\n",
       "      <td>0.000466</td>\n",
       "      <td>0.000711</td>\n",
       "      <td>...</td>\n",
       "      <td>-0.002950</td>\n",
       "      <td>-0.002707</td>\n",
       "      <td>-0.002463</td>\n",
       "      <td>-0.002220</td>\n",
       "      <td>-0.001976</td>\n",
       "      <td>-0.001732</td>\n",
       "      <td>-0.001488</td>\n",
       "      <td>-0.001244</td>\n",
       "      <td>-0.001000</td>\n",
       "      <td>-0.000756</td>\n",
       "    </tr>\n",
       "    <tr>\n",
       "      <th>4</th>\n",
       "      <td>25</td>\n",
       "      <td>50030</td>\n",
       "      <td>6063.023248</td>\n",
       "      <td>正弦波</td>\n",
       "      <td>0.000458</td>\n",
       "      <td>0.000732</td>\n",
       "      <td>0.001007</td>\n",
       "      <td>0.001281</td>\n",
       "      <td>0.001555</td>\n",
       "      <td>0.001830</td>\n",
       "      <td>...</td>\n",
       "      <td>-0.002290</td>\n",
       "      <td>-0.002016</td>\n",
       "      <td>-0.001741</td>\n",
       "      <td>-0.001466</td>\n",
       "      <td>-0.001192</td>\n",
       "      <td>-0.000917</td>\n",
       "      <td>-0.000642</td>\n",
       "      <td>-0.000367</td>\n",
       "      <td>-0.000092</td>\n",
       "      <td>0.000183</td>\n",
       "    </tr>\n",
       "    <tr>\n",
       "      <th>...</th>\n",
       "      <td>...</td>\n",
       "      <td>...</td>\n",
       "      <td>...</td>\n",
       "      <td>...</td>\n",
       "      <td>...</td>\n",
       "      <td>...</td>\n",
       "      <td>...</td>\n",
       "      <td>...</td>\n",
       "      <td>...</td>\n",
       "      <td>...</td>\n",
       "      <td>...</td>\n",
       "      <td>...</td>\n",
       "      <td>...</td>\n",
       "      <td>...</td>\n",
       "      <td>...</td>\n",
       "      <td>...</td>\n",
       "      <td>...</td>\n",
       "      <td>...</td>\n",
       "      <td>...</td>\n",
       "      <td>...</td>\n",
       "      <td>...</td>\n",
       "    </tr>\n",
       "    <tr>\n",
       "      <th>1062</th>\n",
       "      <td>90</td>\n",
       "      <td>316230</td>\n",
       "      <td>54682.608350</td>\n",
       "      <td>正弦波</td>\n",
       "      <td>-0.000427</td>\n",
       "      <td>-0.000156</td>\n",
       "      <td>0.000114</td>\n",
       "      <td>0.000384</td>\n",
       "      <td>0.000655</td>\n",
       "      <td>0.000925</td>\n",
       "      <td>...</td>\n",
       "      <td>-0.003127</td>\n",
       "      <td>-0.002857</td>\n",
       "      <td>-0.002587</td>\n",
       "      <td>-0.002317</td>\n",
       "      <td>-0.002047</td>\n",
       "      <td>-0.001777</td>\n",
       "      <td>-0.001507</td>\n",
       "      <td>-0.001238</td>\n",
       "      <td>-0.000967</td>\n",
       "      <td>-0.000697</td>\n",
       "    </tr>\n",
       "    <tr>\n",
       "      <th>1063</th>\n",
       "      <td>90</td>\n",
       "      <td>316230</td>\n",
       "      <td>71443.968180</td>\n",
       "      <td>正弦波</td>\n",
       "      <td>-0.001780</td>\n",
       "      <td>-0.001476</td>\n",
       "      <td>-0.001172</td>\n",
       "      <td>-0.000868</td>\n",
       "      <td>-0.000565</td>\n",
       "      <td>-0.000261</td>\n",
       "      <td>...</td>\n",
       "      <td>-0.004812</td>\n",
       "      <td>-0.004509</td>\n",
       "      <td>-0.004207</td>\n",
       "      <td>-0.003903</td>\n",
       "      <td>-0.003600</td>\n",
       "      <td>-0.003297</td>\n",
       "      <td>-0.002994</td>\n",
       "      <td>-0.002691</td>\n",
       "      <td>-0.002387</td>\n",
       "      <td>-0.002084</td>\n",
       "    </tr>\n",
       "    <tr>\n",
       "      <th>1064</th>\n",
       "      <td>90</td>\n",
       "      <td>316230</td>\n",
       "      <td>94691.425060</td>\n",
       "      <td>正弦波</td>\n",
       "      <td>-0.000111</td>\n",
       "      <td>0.000231</td>\n",
       "      <td>0.000572</td>\n",
       "      <td>0.000914</td>\n",
       "      <td>0.001255</td>\n",
       "      <td>0.001597</td>\n",
       "      <td>...</td>\n",
       "      <td>-0.003523</td>\n",
       "      <td>-0.003182</td>\n",
       "      <td>-0.002841</td>\n",
       "      <td>-0.002500</td>\n",
       "      <td>-0.002159</td>\n",
       "      <td>-0.001818</td>\n",
       "      <td>-0.001477</td>\n",
       "      <td>-0.001135</td>\n",
       "      <td>-0.000794</td>\n",
       "      <td>-0.000452</td>\n",
       "    </tr>\n",
       "    <tr>\n",
       "      <th>1065</th>\n",
       "      <td>90</td>\n",
       "      <td>316230</td>\n",
       "      <td>123821.811900</td>\n",
       "      <td>正弦波</td>\n",
       "      <td>0.002825</td>\n",
       "      <td>0.003208</td>\n",
       "      <td>0.003592</td>\n",
       "      <td>0.003976</td>\n",
       "      <td>0.004359</td>\n",
       "      <td>0.004741</td>\n",
       "      <td>...</td>\n",
       "      <td>-0.001011</td>\n",
       "      <td>-0.000628</td>\n",
       "      <td>-0.000244</td>\n",
       "      <td>0.000139</td>\n",
       "      <td>0.000523</td>\n",
       "      <td>0.000906</td>\n",
       "      <td>0.001290</td>\n",
       "      <td>0.001674</td>\n",
       "      <td>0.002057</td>\n",
       "      <td>0.002441</td>\n",
       "    </tr>\n",
       "    <tr>\n",
       "      <th>1066</th>\n",
       "      <td>90</td>\n",
       "      <td>316230</td>\n",
       "      <td>163722.346800</td>\n",
       "      <td>正弦波</td>\n",
       "      <td>0.000070</td>\n",
       "      <td>0.000502</td>\n",
       "      <td>0.000934</td>\n",
       "      <td>0.001366</td>\n",
       "      <td>0.001798</td>\n",
       "      <td>0.002229</td>\n",
       "      <td>...</td>\n",
       "      <td>-0.004247</td>\n",
       "      <td>-0.003816</td>\n",
       "      <td>-0.003385</td>\n",
       "      <td>-0.002953</td>\n",
       "      <td>-0.002521</td>\n",
       "      <td>-0.002090</td>\n",
       "      <td>-0.001658</td>\n",
       "      <td>-0.001226</td>\n",
       "      <td>-0.000795</td>\n",
       "      <td>-0.000363</td>\n",
       "    </tr>\n",
       "  </tbody>\n",
       "</table>\n",
       "<p>1067 rows × 1028 columns</p>\n",
       "</div>"
      ],
      "text/plain": [
       "      温度，oC   频率，Hz      磁芯损耗，w/m3 励磁波形  0（磁通密度B，T）         1         2  \\\n",
       "0        25   50030    1997.955250  正弦波    0.000213  0.000389  0.000566   \n",
       "1        25   50020    2427.749830  正弦波   -0.000551 -0.000358 -0.000165   \n",
       "2        25   50020    3332.725760  正弦波   -0.003780 -0.003564 -0.003349   \n",
       "3        25   50020    4502.908007  正弦波   -0.000511 -0.000267 -0.000023   \n",
       "4        25   50030    6063.023248  正弦波    0.000458  0.000732  0.001007   \n",
       "...     ...     ...            ...  ...         ...       ...       ...   \n",
       "1062     90  316230   54682.608350  正弦波   -0.000427 -0.000156  0.000114   \n",
       "1063     90  316230   71443.968180  正弦波   -0.001780 -0.001476 -0.001172   \n",
       "1064     90  316230   94691.425060  正弦波   -0.000111  0.000231  0.000572   \n",
       "1065     90  316230  123821.811900  正弦波    0.002825  0.003208  0.003592   \n",
       "1066     90  316230  163722.346800  正弦波    0.000070  0.000502  0.000934   \n",
       "\n",
       "             3         4         5  ...      1014      1015      1016  \\\n",
       "0     0.000743  0.000919  0.001096  ... -0.001551 -0.001374 -0.001198   \n",
       "1     0.000028  0.000221  0.000413  ... -0.002476 -0.002284 -0.002091   \n",
       "2    -0.003134 -0.002919 -0.002704  ... -0.005927 -0.005713 -0.005499   \n",
       "3     0.000222  0.000466  0.000711  ... -0.002950 -0.002707 -0.002463   \n",
       "4     0.001281  0.001555  0.001830  ... -0.002290 -0.002016 -0.001741   \n",
       "...        ...       ...       ...  ...       ...       ...       ...   \n",
       "1062  0.000384  0.000655  0.000925  ... -0.003127 -0.002857 -0.002587   \n",
       "1063 -0.000868 -0.000565 -0.000261  ... -0.004812 -0.004509 -0.004207   \n",
       "1064  0.000914  0.001255  0.001597  ... -0.003523 -0.003182 -0.002841   \n",
       "1065  0.003976  0.004359  0.004741  ... -0.001011 -0.000628 -0.000244   \n",
       "1066  0.001366  0.001798  0.002229  ... -0.004247 -0.003816 -0.003385   \n",
       "\n",
       "          1017      1018      1019      1020      1021      1022      1023  \n",
       "0    -0.001022 -0.000846 -0.000669 -0.000492 -0.000316 -0.000140  0.000036  \n",
       "1    -0.001899 -0.001707 -0.001515 -0.001322 -0.001129 -0.000937 -0.000744  \n",
       "2    -0.005285 -0.005070 -0.004855 -0.004640 -0.004425 -0.004210 -0.003995  \n",
       "3    -0.002220 -0.001976 -0.001732 -0.001488 -0.001244 -0.001000 -0.000756  \n",
       "4    -0.001466 -0.001192 -0.000917 -0.000642 -0.000367 -0.000092  0.000183  \n",
       "...        ...       ...       ...       ...       ...       ...       ...  \n",
       "1062 -0.002317 -0.002047 -0.001777 -0.001507 -0.001238 -0.000967 -0.000697  \n",
       "1063 -0.003903 -0.003600 -0.003297 -0.002994 -0.002691 -0.002387 -0.002084  \n",
       "1064 -0.002500 -0.002159 -0.001818 -0.001477 -0.001135 -0.000794 -0.000452  \n",
       "1065  0.000139  0.000523  0.000906  0.001290  0.001674  0.002057  0.002441  \n",
       "1066 -0.002953 -0.002521 -0.002090 -0.001658 -0.001226 -0.000795 -0.000363  \n",
       "\n",
       "[1067 rows x 1028 columns]"
      ]
     },
     "execution_count": 2,
     "metadata": {},
     "output_type": "execute_result"
    }
   ],
   "source": [
    "# 读取特定的工作表，可以是工作表的名称或索引\n",
    "df1 = pd.read_excel(file_path, sheet_name='材料1')\n",
    "df1=df1[df['励磁波形']=='正弦波']\n",
    "df1"
   ]
  },
  {
   "cell_type": "code",
   "execution_count": 3,
   "metadata": {},
   "outputs": [
    {
     "data": {
      "text/html": [
       "<div>\n",
       "<style scoped>\n",
       "    .dataframe tbody tr th:only-of-type {\n",
       "        vertical-align: middle;\n",
       "    }\n",
       "\n",
       "    .dataframe tbody tr th {\n",
       "        vertical-align: top;\n",
       "    }\n",
       "\n",
       "    .dataframe thead th {\n",
       "        text-align: right;\n",
       "    }\n",
       "</style>\n",
       "<table border=\"1\" class=\"dataframe\">\n",
       "  <thead>\n",
       "    <tr style=\"text-align: right;\">\n",
       "      <th></th>\n",
       "      <th>T</th>\n",
       "      <th>F</th>\n",
       "      <th>P</th>\n",
       "      <th>B</th>\n",
       "    </tr>\n",
       "  </thead>\n",
       "  <tbody>\n",
       "    <tr>\n",
       "      <th>0</th>\n",
       "      <td>3.218876</td>\n",
       "      <td>10.820378</td>\n",
       "      <td>7.599880</td>\n",
       "      <td>-3.545693</td>\n",
       "    </tr>\n",
       "    <tr>\n",
       "      <th>1</th>\n",
       "      <td>3.218876</td>\n",
       "      <td>10.820178</td>\n",
       "      <td>7.794720</td>\n",
       "      <td>-3.460337</td>\n",
       "    </tr>\n",
       "    <tr>\n",
       "      <th>2</th>\n",
       "      <td>3.218876</td>\n",
       "      <td>10.820178</td>\n",
       "      <td>8.111546</td>\n",
       "      <td>-3.337245</td>\n",
       "    </tr>\n",
       "    <tr>\n",
       "      <th>3</th>\n",
       "      <td>3.218876</td>\n",
       "      <td>10.820178</td>\n",
       "      <td>8.412479</td>\n",
       "      <td>-3.218490</td>\n",
       "    </tr>\n",
       "    <tr>\n",
       "      <th>4</th>\n",
       "      <td>3.218876</td>\n",
       "      <td>10.820378</td>\n",
       "      <td>8.709964</td>\n",
       "      <td>-3.100479</td>\n",
       "    </tr>\n",
       "    <tr>\n",
       "      <th>...</th>\n",
       "      <td>...</td>\n",
       "      <td>...</td>\n",
       "      <td>...</td>\n",
       "      <td>...</td>\n",
       "    </tr>\n",
       "    <tr>\n",
       "      <th>1062</th>\n",
       "      <td>4.499810</td>\n",
       "      <td>12.664225</td>\n",
       "      <td>10.909301</td>\n",
       "      <td>-3.132451</td>\n",
       "    </tr>\n",
       "    <tr>\n",
       "      <th>1063</th>\n",
       "      <td>4.499810</td>\n",
       "      <td>12.664225</td>\n",
       "      <td>11.176669</td>\n",
       "      <td>-3.015622</td>\n",
       "    </tr>\n",
       "    <tr>\n",
       "      <th>1064</th>\n",
       "      <td>4.499810</td>\n",
       "      <td>12.664225</td>\n",
       "      <td>11.458379</td>\n",
       "      <td>-2.893757</td>\n",
       "    </tr>\n",
       "    <tr>\n",
       "      <th>1065</th>\n",
       "      <td>4.499810</td>\n",
       "      <td>12.664225</td>\n",
       "      <td>11.726599</td>\n",
       "      <td>-2.779190</td>\n",
       "    </tr>\n",
       "    <tr>\n",
       "      <th>1066</th>\n",
       "      <td>4.499810</td>\n",
       "      <td>12.664225</td>\n",
       "      <td>12.005927</td>\n",
       "      <td>-2.661584</td>\n",
       "    </tr>\n",
       "  </tbody>\n",
       "</table>\n",
       "<p>1067 rows × 4 columns</p>\n",
       "</div>"
      ],
      "text/plain": [
       "             T          F          P         B\n",
       "0     3.218876  10.820378   7.599880 -3.545693\n",
       "1     3.218876  10.820178   7.794720 -3.460337\n",
       "2     3.218876  10.820178   8.111546 -3.337245\n",
       "3     3.218876  10.820178   8.412479 -3.218490\n",
       "4     3.218876  10.820378   8.709964 -3.100479\n",
       "...        ...        ...        ...       ...\n",
       "1062  4.499810  12.664225  10.909301 -3.132451\n",
       "1063  4.499810  12.664225  11.176669 -3.015622\n",
       "1064  4.499810  12.664225  11.458379 -2.893757\n",
       "1065  4.499810  12.664225  11.726599 -2.779190\n",
       "1066  4.499810  12.664225  12.005927 -2.661584\n",
       "\n",
       "[1067 rows x 4 columns]"
      ]
     },
     "execution_count": 3,
     "metadata": {},
     "output_type": "execute_result"
    }
   ],
   "source": [
    "import numpy as np\n",
    "last_1024_columns = df1.iloc[:, -1024:]\n",
    "df1=df1.iloc[:, :-1025]\n",
    "# 计算每一行的最大值\n",
    "df1['B'] = last_1024_columns.max(axis=1)\n",
    "new_column_names = {\n",
    "    '温度，oC': 'T',\n",
    "    '频率，Hz': 'F',\n",
    "    '磁芯损耗，w/m3': 'P',\n",
    "    'B': 'B'\n",
    "}\n",
    "df1 = df1.rename(columns=new_column_names)\n",
    "df1[['T','F','P', 'B']] = np.log(df1[['T','F','P', 'B']])\n",
    "df1"
   ]
  },
  {
   "cell_type": "code",
   "execution_count": 4,
   "metadata": {},
   "outputs": [
    {
     "name": "stderr",
     "output_type": "stream",
     "text": [
      "C:\\Users\\74860\\AppData\\Local\\Temp\\ipykernel_6824\\1040560344.py:7: RuntimeWarning: invalid value encountered in power\n",
      "  return A * np.power(F, C) * np.power(B, D)\n",
      "C:\\Users\\74860\\AppData\\Local\\Temp\\ipykernel_6824\\1040560344.py:18: OptimizeWarning: Covariance of the parameters could not be estimated\n",
      "  params, covariance = curve_fit(model_func, X_data, P, p0=[1, 1, 1])\n"
     ]
    },
    {
     "data": {
      "text/plain": [
       "nan"
      ]
     },
     "execution_count": 4,
     "metadata": {},
     "output_type": "execute_result"
    }
   ],
   "source": [
    "import numpy as np\n",
    "from scipy.optimize import curve_fit\n",
    "\n",
    "# 定义模型函数\n",
    "def model_func(X, A, C, D):\n",
    "    F,B=X\n",
    "    return A * np.power(F, C) * np.power(B, D)\n",
    "\n",
    "# 假设你有一些数据\n",
    "F = np.array(df1['F'])  # 自变量F的值\n",
    "B = np.array(df1['B'])  # 自变量B的值\n",
    "P = np.array(df1['P'])  # 因变量P的值\n",
    "\n",
    "# 将自变量组合成一个二维数组\n",
    "X_data = np.vstack((F, B))\n",
    "\n",
    "# 使用curve_fit进行拟合\n",
    "params, covariance = curve_fit(model_func, X_data, P, p0=[1, 1, 1])\n",
    "\n",
    "A, C, D = params\n",
    "df1['ypred1']=A * F**C * B**D\n",
    "mse1 = ((df1['P'] - df1['ypred1']) ** 2).mean()\n",
    "mse1"
   ]
  },
  {
   "cell_type": "code",
   "execution_count": 5,
   "metadata": {},
   "outputs": [
    {
     "data": {
      "text/plain": [
       "{'train_input': tensor([[ 4.2485, 11.7429, -2.9003],\n",
       "         [ 3.2189, 11.8584, -1.5268],\n",
       "         [ 3.2189, 11.3973, -3.9276],\n",
       "         ...,\n",
       "         [ 3.2189, 11.5124, -1.5167],\n",
       "         [ 4.4998, 12.5491, -3.5864],\n",
       "         [ 4.4998, 11.2830, -2.4408]], device='cuda:0'),\n",
       " 'test_input': tensor([[ 4.2485, 12.2036, -2.0927]], device='cuda:0'),\n",
       " 'train_label': tensor([[ 9.5117],\n",
       "         [13.8412],\n",
       "         [ 7.3349],\n",
       "         ...,\n",
       "         [13.3727],\n",
       "         [ 9.6158],\n",
       "         [ 9.7533]], device='cuda:0'),\n",
       " 'test_label': tensor([[12.5743]], device='cuda:0')}"
      ]
     },
     "execution_count": 5,
     "metadata": {},
     "output_type": "execute_result"
    }
   ],
   "source": [
    "y=df1['P'].values\n",
    "X=df1[['T','F','B']].values\n",
    "X_tensor = torch.tensor(X, dtype=torch.float32)\n",
    "y_tensor = torch.tensor(y, dtype=torch.float32).view(-1, 1)\n",
    "X_train, X_test, y_train, y_test = train_test_split(X_tensor, y_tensor, test_size=0.00001, random_state=42)\n",
    "if torch.cuda.is_available():\n",
    "    train_dataset = TensorDataset(X_train.to('cuda:0'), y_train.to('cuda:0'))\n",
    "    test_dataset = TensorDataset(X_test.to('cuda:0'), y_test.to('cuda:0'))\n",
    "\n",
    "# 创建一个字典来存储数据集\n",
    "dataset = {\n",
    "    'train_input': train_dataset.tensors[0],\n",
    "    'test_input': test_dataset.tensors[0],\n",
    "    'train_label': train_dataset.tensors[1],\n",
    "    'test_label':test_dataset.tensors[1]\n",
    "}\n",
    "dataset"
   ]
  },
  {
   "cell_type": "code",
   "execution_count": 6,
   "metadata": {},
   "outputs": [],
   "source": [
    "import torch\n",
    "torch.set_default_dtype(torch.float64) # 设置默认张量数据类型为双精度浮点数\n",
    "torch.manual_seed(33) # 设置随机数种子为33\n",
    "from kan import *\n",
    "device = torch.device(\"cuda:0\" if torch.cuda.is_available() else \"cpu\")\n",
    "# 创建一个KAN模型：\n",
    "# 输入维度为2，输出维度为1，隐藏层有5个神经元\n",
    "# 使用三次样条（k=3），将输入空间划分为5个网格间隔（grid=5）\n",
    "# 设置随机数种子为0\n",
    "model = KAN(width=[3,1], grid=5, k=3, seed=0,device=device)"
   ]
  },
  {
   "cell_type": "code",
   "execution_count": 7,
   "metadata": {},
   "outputs": [
    {
     "data": {
      "image/png": "[encoded data removed]",
      "text/plain": [
       "<Figure size 500x200 with 4 Axes>"
      ]
     },
     "metadata": {},
     "output_type": "display_data"
    }
   ],
   "source": [
    "# 绘制初始化时的KAN模型图形\n",
    "model(dataset['train_input']);\n",
    "# 使用 plot 方法绘制模型的输出结果\n",
    "# 设置 beta 参数为 100，用于控制平滑度\n",
    "model.plot(beta=50)"
   ]
  },
  {
   "cell_type": "code",
   "execution_count": 8,
   "metadata": {},
   "outputs": [
    {
     "name": "stderr",
     "output_type": "stream",
     "text": [
      "description:   0%|                                                           | 0/10 [00:00<?, ?it/s]c:\\Users\\74860\\Desktop\\deep learning\\kanmodel\\kan\\KAN.py:327: UserWarning: std(): degrees of freedom is <= 0. Correction should be strictly less than the reduction factor (input numel divided by output numel). (Triggered internally at C:\\actions-runner\\_work\\pytorch\\pytorch\\builder\\windows\\pytorch\\aten\\src\\ATen\\native\\ReduceOps.cpp:1760.)\n",
      "  self.acts_scale_std.append(torch.std(postacts, dim=0))\n",
      "train loss: 1.72e-01 | test loss: 1.42e-01 | reg: 1.24e+01 : 100%|██| 10/10 [00:01<00:00,  5.27it/s]\n"
     ]
    }
   ],
   "source": [
    "# 对模型进行训练\n",
    "# 使用 LBFGS 优化器\n",
    "# 进行 20 步训练\n",
    "# 设置正则化参数为 0.01\n",
    "# 设置信息熵正则化参数为 10.0\n",
    "# 在给定的设备上进行训练\n",
    "model.train(dataset, opt=\"LBFGS\", steps=10, lamb=0.01, lamb_entropy=10.,device=device);"
   ]
  },
  {
   "cell_type": "code",
   "execution_count": 9,
   "metadata": {},
   "outputs": [
    {
     "data": {
      "image/png": "[encoded data removed]",
      "text/plain": [
       "<Figure size 500x200 with 4 Axes>"
      ]
     },
     "metadata": {},
     "output_type": "display_data"
    }
   ],
   "source": [
    "model.plot() # 使用 plot 方法绘制训练后的KAN模型"
   ]
  },
  {
   "cell_type": "code",
   "execution_count": 10,
   "metadata": {},
   "outputs": [
    {
     "data": {
      "image/png": "[encoded data removed]",
      "text/plain": [
       "<Figure size 500x200 with 4 Axes>"
      ]
     },
     "metadata": {},
     "output_type": "display_data"
    }
   ],
   "source": [
    "# 对KAN模型进行修剪\n",
    "model.prune()\n",
    "# 使用 plot 方法绘制修剪后的KAN模型\n",
    "# 设置 mask=True 以保持原始形状\n",
    "model.plot(mask=True)"
   ]
  },
  {
   "cell_type": "code",
   "execution_count": 11,
   "metadata": {},
   "outputs": [
    {
     "data": {
      "image/png": "[encoded data removed]",
      "text/plain": [
       "<Figure size 500x200 with 4 Axes>"
      ]
     },
     "metadata": {},
     "output_type": "display_data"
    }
   ],
   "source": [
    "model = model.prune()\n",
    "# 使用修剪后的模型对训练输入数据进行预测\n",
    "model(dataset['train_input'])\n",
    "# 使用 plot 方法绘制修剪后的KAN模型的输出结果\n",
    "model.plot()"
   ]
  },
  {
   "cell_type": "code",
   "execution_count": 12,
   "metadata": {},
   "outputs": [
    {
     "name": "stderr",
     "output_type": "stream",
     "text": [
      "train loss: 1.70e-01 | test loss: 1.27e-01 | reg: 1.24e+01 : 100%|████| 5/5 [00:00<00:00,  5.26it/s]\n"
     ]
    },
    {
     "data": {
      "image/png": "[encoded data removed]",
      "text/plain": [
       "<Figure size 500x200 with 4 Axes>"
      ]
     },
     "metadata": {},
     "output_type": "display_data"
    },
    {
     "data": {
      "image/png": "[encoded data removed]",
      "text/plain": [
       "<Figure size 500x200 with 4 Axes>"
      ]
     },
     "metadata": {},
     "output_type": "display_data"
    }
   ],
   "source": [
    "model.train(dataset, opt=\"LBFGS\", steps=5, lamb=0.01, lamb_entropy=10.,device=device);\n",
    "# 对KAN模型进行修剪\n",
    "model.prune()\n",
    "# 使用 plot 方法绘制修剪后的KAN模型\n",
    "# 设置 mask=True 以保持原始形状\n",
    "model.plot(mask=True)\n",
    "model = model.prune()\n",
    "# 使用修剪后的模型对训练输入数据进行预测\n",
    "model(dataset['train_input'])\n",
    "# 使用 plot 方法绘制修剪后的KAN模型的输出结果\n",
    "model.plot()"
   ]
  },
  {
   "cell_type": "code",
   "execution_count": 13,
   "metadata": {},
   "outputs": [
    {
     "name": "stderr",
     "output_type": "stream",
     "text": [
      "train loss: 1.68e-01 | test loss: 1.24e-01 | reg: 1.24e+01 : 100%|████| 5/5 [00:00<00:00,  5.59it/s]\n"
     ]
    },
    {
     "data": {
      "image/png": "[encoded data removed]",
      "text/plain": [
       "<Figure size 500x200 with 4 Axes>"
      ]
     },
     "metadata": {},
     "output_type": "display_data"
    },
    {
     "data": {
      "image/png": "[encoded data removed]",
      "text/plain": [
       "<Figure size 500x200 with 4 Axes>"
      ]
     },
     "metadata": {},
     "output_type": "display_data"
    }
   ],
   "source": [
    "model.train(dataset, opt=\"LBFGS\", steps=5, lamb=0.01, lamb_entropy=10.,device=device);\n",
    "# 对KAN模型进行修剪\n",
    "model.prune()\n",
    "# 使用 plot 方法绘制修剪后的KAN模型\n",
    "# 设置 mask=True 以保持原始形状\n",
    "model.plot(mask=True)\n",
    "model = model.prune()\n",
    "# 使用修剪后的模型对训练输入数据进行预测\n",
    "model(dataset['train_input'])\n",
    "# 使用 plot 方法绘制修剪后的KAN模型的输出结果\n",
    "model.plot()"
   ]
  },
  {
   "cell_type": "code",
   "execution_count": 14,
   "metadata": {},
   "outputs": [
    {
     "name": "stderr",
     "output_type": "stream",
     "text": [
      "train loss: 1.68e-01 | test loss: 1.18e-01 | reg: 1.24e+01 : 100%|████| 5/5 [00:00<00:00, 10.14it/s]\n"
     ]
    },
    {
     "data": {
      "image/png": "[encoded data removed]",
      "text/plain": [
       "<Figure size 500x200 with 4 Axes>"
      ]
     },
     "metadata": {},
     "output_type": "display_data"
    },
    {
     "data": {
      "image/png": "[encoded data removed]",
      "text/plain": [
       "<Figure size 500x200 with 4 Axes>"
      ]
     },
     "metadata": {},
     "output_type": "display_data"
    }
   ],
   "source": [
    "model.train(dataset, opt=\"LBFGS\", steps=5, lamb=0.01, lamb_entropy=10.,device=device);\n",
    "# 对KAN模型进行修剪\n",
    "model.prune()\n",
    "# 使用 plot 方法绘制修剪后的KAN模型\n",
    "# 设置 mask=True 以保持原始形状\n",
    "model.plot(mask=True)\n",
    "model = model.prune()\n",
    "# 使用修剪后的模型对训练输入数据进行预测\n",
    "model(dataset['train_input'])\n",
    "# 使用 plot 方法绘制修剪后的KAN模型的输出结果\n",
    "model.plot()"
   ]
  },
  {
   "cell_type": "code",
   "execution_count": 15,
   "metadata": {},
   "outputs": [
    {
     "data": {
      "text/plain": [
       "tensor([[ 4.2485, 11.7429, -2.9003],\n",
       "        [ 3.2189, 11.8584, -1.5268],\n",
       "        [ 3.2189, 11.3973, -3.9276],\n",
       "        ...,\n",
       "        [ 3.2189, 11.5124, -1.5167],\n",
       "        [ 4.4998, 12.5491, -3.5864],\n",
       "        [ 4.4998, 11.2830, -2.4408]], dtype=torch.float32)"
      ]
     },
     "execution_count": 15,
     "metadata": {},
     "output_type": "execute_result"
    }
   ],
   "source": [
    "X_train"
   ]
  },
  {
   "cell_type": "code",
   "execution_count": 16,
   "metadata": {},
   "outputs": [],
   "source": [
    "# import shap\n",
    "# explainer = shap.Explainer(model.model_predict,dataset['train_input'].cpu().numpy())  # 使用预测函数\n",
    "# shap_values = explainer(dataset['train_input'].cpu().numpy())\n"
   ]
  },
  {
   "cell_type": "code",
   "execution_count": 17,
   "metadata": {},
   "outputs": [
    {
     "name": "stdout",
     "output_type": "stream",
     "text": [
      "Best value at boundary.\n",
      "r2 is 0.9991339937025693\n",
      "Best value at boundary.\n",
      "r2 is 0.9830527336175551\n",
      "Best value at boundary.\n",
      "r2 is 0.9985380982648674\n"
     ]
    }
   ],
   "source": [
    "# 设置 mode 变量为 \"auto\" 或 \"manual\"，以确定激活函数的设置方式\n",
    "mode = \"manual\"  # 或者 mode = \"manual\"\n",
    "# 如果 mode 是 \"manual\"，则手动设置激活函数为符号函数\n",
    "if mode == \"manual\":\n",
    "    # 手动模式下，逐个指定隐藏层和输入层的激活函数\n",
    "    # 第一个参数表示层的索引，第二个和第三个参数表示神经元的索引\n",
    "    # 第四个参数为要设置的激活函数，例如 'sin', 'x^2', 'exp' 等\n",
    "    model.fix_symbolic(0,0,0,'x'); # 设置第一个隐藏层的第一个神经元的激活函数为正弦函数\n",
    "    model.fix_symbolic(0,1,0,'x'); # 设置第一个隐藏层的第二个神经元的激活函数为平方函数\n",
    "    model.fix_symbolic(0,2,0,'x'); # 设置第一个隐藏层的第二个神经元的激活函数为平方函数\n",
    "    # model.fix_symbolic(1,0,0,'x'); # 设置输出层的第一个神经元的激活函数为指数函数\n",
    "# 如果 mode 是 \"auto\"，则自动设置激活函数为符号函数\n",
    "elif mode == \"auto\":\n",
    "    # 自动模式下，根据提供的激活函数库自动选择合适的符号函数作为激活函数\n",
    "    lib = ['x','sin']\n",
    "    model.auto_symbolic(lib=lib)"
   ]
  },
  {
   "cell_type": "code",
   "execution_count": 19,
   "metadata": {},
   "outputs": [],
   "source": [
    "model.symbolic_formula()[0][0] # 获取模型的符号化公式\n",
    "df1['ypred']=-0.56*df1['T']+1.63*df1['F']+2.52*df1['B']+0.27\n",
    "# df1"
   ]
  },
  {
   "cell_type": "code",
   "execution_count": 20,
   "metadata": {},
   "outputs": [
    {
     "name": "stdout",
     "output_type": "stream",
     "text": [
      "Requirement already satisfied: statsmodels in c:\\users\\74860\\kanenv\\lib\\site-packages (0.14.3)\n",
      "Requirement already satisfied: numpy<3,>=1.22.3 in c:\\users\\74860\\kanenv\\lib\\site-packages (from statsmodels) (1.24.4)\n",
      "Requirement already satisfied: scipy!=1.9.2,>=1.8 in c:\\users\\74860\\kanenv\\lib\\site-packages (from statsmodels) (1.13.1)\n",
      "Requirement already satisfied: pandas!=2.1.0,>=1.4 in c:\\users\\74860\\kanenv\\lib\\site-packages (from statsmodels) (2.2.2)\n",
      "Requirement already satisfied: patsy>=0.5.6 in c:\\users\\74860\\kanenv\\lib\\site-packages (from statsmodels) (0.5.6)\n",
      "Requirement already satisfied: packaging>=21.3 in c:\\users\\74860\\kanenv\\lib\\site-packages (from statsmodels) (24.1)\n",
      "Requirement already satisfied: python-dateutil>=2.8.2 in c:\\users\\74860\\kanenv\\lib\\site-packages (from pandas!=2.1.0,>=1.4->statsmodels) (2.9.0.post0)\n",
      "Requirement already satisfied: pytz>=2020.1 in c:\\users\\74860\\kanenv\\lib\\site-packages (from pandas!=2.1.0,>=1.4->statsmodels) (2024.1)\n",
      "Requirement already satisfied: tzdata>=2022.7 in c:\\users\\74860\\kanenv\\lib\\site-packages (from pandas!=2.1.0,>=1.4->statsmodels) (2024.1)\n",
      "Requirement already satisfied: six in c:\\users\\74860\\kanenv\\lib\\site-packages (from patsy>=0.5.6->statsmodels) (1.16.0)\n"
     ]
    },
    {
     "name": "stderr",
     "output_type": "stream",
     "text": [
      "\n",
      "[notice] A new release of pip is available: 24.1 -> 24.2\n",
      "[notice] To update, run: python.exe -m pip install --upgrade pip\n"
     ]
    }
   ],
   "source": [
    "!pip install statsmodels"
   ]
  },
  {
   "cell_type": "code",
   "execution_count": 21,
   "metadata": {},
   "outputs": [
    {
     "name": "stdout",
     "output_type": "stream",
     "text": [
      "                            OLS Regression Results                            \n",
      "==============================================================================\n",
      "Dep. Variable:                      P   R-squared:                       0.967\n",
      "Model:                            OLS   Adj. R-squared:                  0.967\n",
      "Method:                 Least Squares   F-statistic:                 1.570e+04\n",
      "Date:                Tue, 24 Sep 2024   Prob (F-statistic):               0.00\n",
      "Time:                        00:29:36   Log-Likelihood:                -409.66\n",
      "No. Observations:                1067   AIC:                             825.3\n",
      "Df Residuals:                    1064   BIC:                             840.2\n",
      "Df Model:                           2                                         \n",
      "Covariance Type:            nonrobust                                         \n",
      "==============================================================================\n",
      "                 coef    std err          t      P>|t|      [0.025      0.975]\n",
      "------------------------------------------------------------------------------\n",
      "const         -1.6508      0.248     -6.666      0.000      -2.137      -1.165\n",
      "F              1.6059      0.022     72.352      0.000       1.562       1.649\n",
      "B              2.5066      0.014    177.105      0.000       2.479       2.534\n",
      "==============================================================================\n",
      "Omnibus:                       28.980   Durbin-Watson:                   0.068\n",
      "Prob(Omnibus):                  0.000   Jarque-Bera (JB):               16.840\n",
      "Skew:                           0.139   Prob(JB):                     0.000220\n",
      "Kurtosis:                       2.450   Cond. No.                         276.\n",
      "==============================================================================\n",
      "\n",
      "Notes:\n",
      "[1] Standard Errors assume that the covariance matrix of the errors is correctly specified.\n"
     ]
    }
   ],
   "source": [
    "X = df1[['F', 'B']]\n",
    "y=df1['P']\n",
    "import statsmodels.api as sm\n",
    "X = sm.add_constant(X)\n",
    "model = sm.OLS(y, X)\n",
    "results = model.fit()\n",
    "print(results.summary())"
   ]
  },
  {
   "cell_type": "code",
   "execution_count": 22,
   "metadata": {},
   "outputs": [
    {
     "data": {
      "text/html": [
       "<div>\n",
       "<style scoped>\n",
       "    .dataframe tbody tr th:only-of-type {\n",
       "        vertical-align: middle;\n",
       "    }\n",
       "\n",
       "    .dataframe tbody tr th {\n",
       "        vertical-align: top;\n",
       "    }\n",
       "\n",
       "    .dataframe thead th {\n",
       "        text-align: right;\n",
       "    }\n",
       "</style>\n",
       "<table border=\"1\" class=\"dataframe\">\n",
       "  <thead>\n",
       "    <tr style=\"text-align: right;\">\n",
       "      <th></th>\n",
       "      <th>T</th>\n",
       "      <th>F</th>\n",
       "      <th>P</th>\n",
       "      <th>B</th>\n",
       "      <th>ypred1</th>\n",
       "      <th>ypred</th>\n",
       "    </tr>\n",
       "  </thead>\n",
       "  <tbody>\n",
       "    <tr>\n",
       "      <th>0</th>\n",
       "      <td>3.218876</td>\n",
       "      <td>10.820378</td>\n",
       "      <td>7.599880</td>\n",
       "      <td>-3.545693</td>\n",
       "      <td>6.838011</td>\n",
       "      <td>7.169500</td>\n",
       "    </tr>\n",
       "    <tr>\n",
       "      <th>1</th>\n",
       "      <td>3.218876</td>\n",
       "      <td>10.820178</td>\n",
       "      <td>7.794720</td>\n",
       "      <td>-3.460337</td>\n",
       "      <td>7.051644</td>\n",
       "      <td>7.384271</td>\n",
       "    </tr>\n",
       "    <tr>\n",
       "      <th>2</th>\n",
       "      <td>3.218876</td>\n",
       "      <td>10.820178</td>\n",
       "      <td>8.111546</td>\n",
       "      <td>-3.337245</td>\n",
       "      <td>7.360186</td>\n",
       "      <td>7.694463</td>\n",
       "    </tr>\n",
       "    <tr>\n",
       "      <th>3</th>\n",
       "      <td>3.218876</td>\n",
       "      <td>10.820178</td>\n",
       "      <td>8.412479</td>\n",
       "      <td>-3.218490</td>\n",
       "      <td>7.657856</td>\n",
       "      <td>7.993724</td>\n",
       "    </tr>\n",
       "    <tr>\n",
       "      <th>4</th>\n",
       "      <td>3.218876</td>\n",
       "      <td>10.820378</td>\n",
       "      <td>8.709964</td>\n",
       "      <td>-3.100479</td>\n",
       "      <td>7.953985</td>\n",
       "      <td>8.291439</td>\n",
       "    </tr>\n",
       "    <tr>\n",
       "      <th>...</th>\n",
       "      <td>...</td>\n",
       "      <td>...</td>\n",
       "      <td>...</td>\n",
       "      <td>...</td>\n",
       "      <td>...</td>\n",
       "      <td>...</td>\n",
       "    </tr>\n",
       "    <tr>\n",
       "      <th>1062</th>\n",
       "      <td>4.499810</td>\n",
       "      <td>12.664225</td>\n",
       "      <td>10.909301</td>\n",
       "      <td>-3.132451</td>\n",
       "      <td>10.834878</td>\n",
       "      <td>10.499018</td>\n",
       "    </tr>\n",
       "    <tr>\n",
       "      <th>1063</th>\n",
       "      <td>4.499810</td>\n",
       "      <td>12.664225</td>\n",
       "      <td>11.176669</td>\n",
       "      <td>-3.015622</td>\n",
       "      <td>11.127721</td>\n",
       "      <td>10.793426</td>\n",
       "    </tr>\n",
       "    <tr>\n",
       "      <th>1064</th>\n",
       "      <td>4.499810</td>\n",
       "      <td>12.664225</td>\n",
       "      <td>11.458379</td>\n",
       "      <td>-2.893757</td>\n",
       "      <td>11.433188</td>\n",
       "      <td>11.100526</td>\n",
       "    </tr>\n",
       "    <tr>\n",
       "      <th>1065</th>\n",
       "      <td>4.499810</td>\n",
       "      <td>12.664225</td>\n",
       "      <td>11.726599</td>\n",
       "      <td>-2.779190</td>\n",
       "      <td>11.720361</td>\n",
       "      <td>11.389234</td>\n",
       "    </tr>\n",
       "    <tr>\n",
       "      <th>1066</th>\n",
       "      <td>4.499810</td>\n",
       "      <td>12.664225</td>\n",
       "      <td>12.005927</td>\n",
       "      <td>-2.661584</td>\n",
       "      <td>12.015152</td>\n",
       "      <td>11.685601</td>\n",
       "    </tr>\n",
       "  </tbody>\n",
       "</table>\n",
       "<p>1067 rows × 6 columns</p>\n",
       "</div>"
      ],
      "text/plain": [
       "             T          F          P         B     ypred1      ypred\n",
       "0     3.218876  10.820378   7.599880 -3.545693   6.838011   7.169500\n",
       "1     3.218876  10.820178   7.794720 -3.460337   7.051644   7.384271\n",
       "2     3.218876  10.820178   8.111546 -3.337245   7.360186   7.694463\n",
       "3     3.218876  10.820178   8.412479 -3.218490   7.657856   7.993724\n",
       "4     3.218876  10.820378   8.709964 -3.100479   7.953985   8.291439\n",
       "...        ...        ...        ...       ...        ...        ...\n",
       "1062  4.499810  12.664225  10.909301 -3.132451  10.834878  10.499018\n",
       "1063  4.499810  12.664225  11.176669 -3.015622  11.127721  10.793426\n",
       "1064  4.499810  12.664225  11.458379 -2.893757  11.433188  11.100526\n",
       "1065  4.499810  12.664225  11.726599 -2.779190  11.720361  11.389234\n",
       "1066  4.499810  12.664225  12.005927 -2.661584  12.015152  11.685601\n",
       "\n",
       "[1067 rows x 6 columns]"
      ]
     },
     "execution_count": 22,
     "metadata": {},
     "output_type": "execute_result"
    }
   ],
   "source": [
    "df1['ypred1']=-1.6508+ 1.6059*df1['F']+2.5066*df1['B']\n",
    "df1"
   ]
  },
  {
   "cell_type": "code",
   "execution_count": 23,
   "metadata": {},
   "outputs": [
    {
     "name": "stdout",
     "output_type": "stream",
     "text": [
      "520384573.8409654 1847531808.1340034\n"
     ]
    }
   ],
   "source": [
    "mse = ((np.exp(df1['P']) - np.exp(df1['ypred'])) ** 2).mean()\n",
    "mse1 = ((np.exp(df1['P']) - np.exp(df1['ypred1'])) ** 2).mean()\n",
    "print(mse,mse1)"
   ]
  },
  {
   "cell_type": "code",
   "execution_count": null,
   "metadata": {},
   "outputs": [],
   "source": []
  }
 ],
 "metadata": {
  "kernelspec": {
   "display_name": "kanenv",
   "language": "python",
   "name": "python3"
  },
  "language_info": {
   "codemirror_mode": {
    "name": "ipython",
    "version": 3
   },
   "file_extension": ".py",
   "mimetype": "text/x-python",
   "name": "python",
   "nbconvert_exporter": "python",
   "pygments_lexer": "ipython3",
   "version": "3.9.7"
  }
 },
 "nbformat": 4,
 "nbformat_minor": 2
}
