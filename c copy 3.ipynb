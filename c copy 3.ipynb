{
 "cells": [
  {
   "cell_type": "code",
   "execution_count": 1,
   "metadata": {},
   "outputs": [
    {
     "name": "stdout",
     "output_type": "stream",
     "text": [
      "Requirement already satisfied: openpyxl in c:\\users\\74860\\kanenv\\lib\\site-packages (3.1.5)\n",
      "Requirement already satisfied: et-xmlfile in c:\\users\\74860\\kanenv\\lib\\site-packages (from openpyxl) (1.1.0)\n"
     ]
    },
    {
     "name": "stderr",
     "output_type": "stream",
     "text": [
      "\n",
      "[notice] A new release of pip is available: 24.1 -> 24.2\n",
      "[notice] To update, run: python.exe -m pip install --upgrade pip\n"
     ]
    }
   ],
   "source": [
    "!pip install openpyxl"
   ]
  },
  {
   "cell_type": "code",
   "execution_count": 1,
   "metadata": {},
   "outputs": [
    {
     "name": "stdout",
     "output_type": "stream",
     "text": [
      "   温度，oC  频率，Hz    磁芯损耗，w/m3 励磁波形  0（磁通密度B，T）         1         2         3  \\\n",
      "0     25  50030  1997.955250  正弦波    0.000213  0.000389  0.000566  0.000743   \n",
      "1     25  50020  2427.749830  正弦波   -0.000551 -0.000358 -0.000165  0.000028   \n",
      "2     25  50020  3332.725760  正弦波   -0.003780 -0.003564 -0.003349 -0.003134   \n",
      "3     25  50020  4502.908007  正弦波   -0.000511 -0.000267 -0.000023  0.000222   \n",
      "4     25  50030  6063.023248  正弦波    0.000458  0.000732  0.001007  0.001281   \n",
      "\n",
      "          4         5  ...      1014      1015      1016      1017      1018  \\\n",
      "0  0.000919  0.001096  ... -0.001551 -0.001374 -0.001198 -0.001022 -0.000846   \n",
      "1  0.000221  0.000413  ... -0.002476 -0.002284 -0.002091 -0.001899 -0.001707   \n",
      "2 -0.002919 -0.002704  ... -0.005927 -0.005713 -0.005499 -0.005285 -0.005070   \n",
      "3  0.000466  0.000711  ... -0.002950 -0.002707 -0.002463 -0.002220 -0.001976   \n",
      "4  0.001555  0.001830  ... -0.002290 -0.002016 -0.001741 -0.001466 -0.001192   \n",
      "\n",
      "       1019      1020      1021      1022      1023  \n",
      "0 -0.000669 -0.000492 -0.000316 -0.000140  0.000036  \n",
      "1 -0.001515 -0.001322 -0.001129 -0.000937 -0.000744  \n",
      "2 -0.004855 -0.004640 -0.004425 -0.004210 -0.003995  \n",
      "3 -0.001732 -0.001488 -0.001244 -0.001000 -0.000756  \n",
      "4 -0.000917 -0.000642 -0.000367 -0.000092  0.000183  \n",
      "\n",
      "[5 rows x 1028 columns]\n"
     ]
    }
   ],
   "source": [
    "import pandas as pd\n",
    "import torch\n",
    "from sklearn.model_selection import train_test_split\n",
    "from torch.utils.data import Dataset, TensorDataset\n",
    "# 指定文件路径\n",
    "file_path = '附件一（训练集）.xlsx'\n",
    "\n",
    "# 使用pandas的read_excel函数读取数据\n",
    "df = pd.read_excel(file_path)\n",
    "\n",
    "# 显示数据框架的前几行，以确保数据被正确读取\n",
    "print(df.head())"
   ]
  },
  {
   "cell_type": "code",
   "execution_count": 2,
   "metadata": {},
   "outputs": [
    {
     "name": "stderr",
     "output_type": "stream",
     "text": [
      "C:\\Users\\74860\\AppData\\Local\\Temp\\ipykernel_20280\\300562201.py:3: UserWarning: Boolean Series key will be reindexed to match DataFrame index.\n",
      "  df1=df1[df['励磁波形']=='正弦波']\n"
     ]
    },
    {
     "data": {
      "text/html": [
       "<div>\n",
       "<style scoped>\n",
       "    .dataframe tbody tr th:only-of-type {\n",
       "        vertical-align: middle;\n",
       "    }\n",
       "\n",
       "    .dataframe tbody tr th {\n",
       "        vertical-align: top;\n",
       "    }\n",
       "\n",
       "    .dataframe thead th {\n",
       "        text-align: right;\n",
       "    }\n",
       "</style>\n",
       "<table border=\"1\" class=\"dataframe\">\n",
       "  <thead>\n",
       "    <tr style=\"text-align: right;\">\n",
       "      <th></th>\n",
       "      <th>温度，oC</th>\n",
       "      <th>频率，Hz</th>\n",
       "      <th>磁芯损耗，w/m3</th>\n",
       "      <th>励磁波形</th>\n",
       "      <th>0（磁通密度B，T）</th>\n",
       "      <th>1</th>\n",
       "      <th>2</th>\n",
       "      <th>3</th>\n",
       "      <th>4</th>\n",
       "      <th>5</th>\n",
       "      <th>...</th>\n",
       "      <th>1014</th>\n",
       "      <th>1015</th>\n",
       "      <th>1016</th>\n",
       "      <th>1017</th>\n",
       "      <th>1018</th>\n",
       "      <th>1019</th>\n",
       "      <th>1020</th>\n",
       "      <th>1021</th>\n",
       "      <th>1022</th>\n",
       "      <th>1023</th>\n",
       "    </tr>\n",
       "  </thead>\n",
       "  <tbody>\n",
       "    <tr>\n",
       "      <th>0</th>\n",
       "      <td>25</td>\n",
       "      <td>50020</td>\n",
       "      <td>2525.795337</td>\n",
       "      <td>正弦波</td>\n",
       "      <td>-0.000109</td>\n",
       "      <td>0.000049</td>\n",
       "      <td>0.000207</td>\n",
       "      <td>0.000365</td>\n",
       "      <td>0.000523</td>\n",
       "      <td>0.000681</td>\n",
       "      <td>...</td>\n",
       "      <td>-0.001685</td>\n",
       "      <td>-0.001528</td>\n",
       "      <td>-0.001370</td>\n",
       "      <td>-0.001213</td>\n",
       "      <td>-0.001055</td>\n",
       "      <td>-0.000898</td>\n",
       "      <td>-0.000740</td>\n",
       "      <td>-0.000582</td>\n",
       "      <td>-0.000425</td>\n",
       "      <td>-0.000267</td>\n",
       "    </tr>\n",
       "    <tr>\n",
       "      <th>1</th>\n",
       "      <td>25</td>\n",
       "      <td>50020</td>\n",
       "      <td>4427.524958</td>\n",
       "      <td>正弦波</td>\n",
       "      <td>0.000020</td>\n",
       "      <td>0.000215</td>\n",
       "      <td>0.000410</td>\n",
       "      <td>0.000605</td>\n",
       "      <td>0.000801</td>\n",
       "      <td>0.000995</td>\n",
       "      <td>...</td>\n",
       "      <td>-0.001928</td>\n",
       "      <td>-0.001733</td>\n",
       "      <td>-0.001539</td>\n",
       "      <td>-0.001344</td>\n",
       "      <td>-0.001149</td>\n",
       "      <td>-0.000955</td>\n",
       "      <td>-0.000760</td>\n",
       "      <td>-0.000566</td>\n",
       "      <td>-0.000371</td>\n",
       "      <td>-0.000176</td>\n",
       "    </tr>\n",
       "    <tr>\n",
       "      <th>2</th>\n",
       "      <td>25</td>\n",
       "      <td>50020</td>\n",
       "      <td>5780.576037</td>\n",
       "      <td>正弦波</td>\n",
       "      <td>0.002607</td>\n",
       "      <td>0.002825</td>\n",
       "      <td>0.003043</td>\n",
       "      <td>0.003260</td>\n",
       "      <td>0.003477</td>\n",
       "      <td>0.003693</td>\n",
       "      <td>...</td>\n",
       "      <td>0.000434</td>\n",
       "      <td>0.000651</td>\n",
       "      <td>0.000869</td>\n",
       "      <td>0.001086</td>\n",
       "      <td>0.001304</td>\n",
       "      <td>0.001521</td>\n",
       "      <td>0.001738</td>\n",
       "      <td>0.001955</td>\n",
       "      <td>0.002173</td>\n",
       "      <td>0.002390</td>\n",
       "    </tr>\n",
       "    <tr>\n",
       "      <th>3</th>\n",
       "      <td>25</td>\n",
       "      <td>50020</td>\n",
       "      <td>10983.412600</td>\n",
       "      <td>正弦波</td>\n",
       "      <td>0.003480</td>\n",
       "      <td>0.003759</td>\n",
       "      <td>0.004038</td>\n",
       "      <td>0.004316</td>\n",
       "      <td>0.004595</td>\n",
       "      <td>0.004873</td>\n",
       "      <td>...</td>\n",
       "      <td>0.000696</td>\n",
       "      <td>0.000974</td>\n",
       "      <td>0.001253</td>\n",
       "      <td>0.001531</td>\n",
       "      <td>0.001809</td>\n",
       "      <td>0.002087</td>\n",
       "      <td>0.002365</td>\n",
       "      <td>0.002644</td>\n",
       "      <td>0.002922</td>\n",
       "      <td>0.003201</td>\n",
       "    </tr>\n",
       "    <tr>\n",
       "      <th>4</th>\n",
       "      <td>25</td>\n",
       "      <td>50020</td>\n",
       "      <td>14526.685680</td>\n",
       "      <td>正弦波</td>\n",
       "      <td>0.004069</td>\n",
       "      <td>0.004381</td>\n",
       "      <td>0.004693</td>\n",
       "      <td>0.005005</td>\n",
       "      <td>0.005317</td>\n",
       "      <td>0.005628</td>\n",
       "      <td>...</td>\n",
       "      <td>0.000946</td>\n",
       "      <td>0.001258</td>\n",
       "      <td>0.001570</td>\n",
       "      <td>0.001883</td>\n",
       "      <td>0.002195</td>\n",
       "      <td>0.002507</td>\n",
       "      <td>0.002819</td>\n",
       "      <td>0.003132</td>\n",
       "      <td>0.003444</td>\n",
       "      <td>0.003756</td>\n",
       "    </tr>\n",
       "    <tr>\n",
       "      <th>...</th>\n",
       "      <td>...</td>\n",
       "      <td>...</td>\n",
       "      <td>...</td>\n",
       "      <td>...</td>\n",
       "      <td>...</td>\n",
       "      <td>...</td>\n",
       "      <td>...</td>\n",
       "      <td>...</td>\n",
       "      <td>...</td>\n",
       "      <td>...</td>\n",
       "      <td>...</td>\n",
       "      <td>...</td>\n",
       "      <td>...</td>\n",
       "      <td>...</td>\n",
       "      <td>...</td>\n",
       "      <td>...</td>\n",
       "      <td>...</td>\n",
       "      <td>...</td>\n",
       "      <td>...</td>\n",
       "      <td>...</td>\n",
       "      <td>...</td>\n",
       "    </tr>\n",
       "    <tr>\n",
       "      <th>1062</th>\n",
       "      <td>25</td>\n",
       "      <td>396800</td>\n",
       "      <td>42412.471700</td>\n",
       "      <td>三角波</td>\n",
       "      <td>-0.013174</td>\n",
       "      <td>-0.012849</td>\n",
       "      <td>-0.012528</td>\n",
       "      <td>-0.012209</td>\n",
       "      <td>-0.011895</td>\n",
       "      <td>-0.011583</td>\n",
       "      <td>...</td>\n",
       "      <td>-0.015220</td>\n",
       "      <td>-0.015179</td>\n",
       "      <td>-0.015108</td>\n",
       "      <td>-0.014999</td>\n",
       "      <td>-0.014846</td>\n",
       "      <td>-0.014647</td>\n",
       "      <td>-0.014403</td>\n",
       "      <td>-0.014123</td>\n",
       "      <td>-0.013818</td>\n",
       "      <td>-0.013499</td>\n",
       "    </tr>\n",
       "    <tr>\n",
       "      <th>1063</th>\n",
       "      <td>25</td>\n",
       "      <td>396800</td>\n",
       "      <td>54351.812730</td>\n",
       "      <td>三角波</td>\n",
       "      <td>-0.014678</td>\n",
       "      <td>-0.014314</td>\n",
       "      <td>-0.013952</td>\n",
       "      <td>-0.013595</td>\n",
       "      <td>-0.013242</td>\n",
       "      <td>-0.012892</td>\n",
       "      <td>...</td>\n",
       "      <td>-0.017036</td>\n",
       "      <td>-0.016983</td>\n",
       "      <td>-0.016895</td>\n",
       "      <td>-0.016763</td>\n",
       "      <td>-0.016581</td>\n",
       "      <td>-0.016348</td>\n",
       "      <td>-0.016067</td>\n",
       "      <td>-0.015748</td>\n",
       "      <td>-0.015403</td>\n",
       "      <td>-0.015043</td>\n",
       "    </tr>\n",
       "    <tr>\n",
       "      <th>1064</th>\n",
       "      <td>25</td>\n",
       "      <td>396800</td>\n",
       "      <td>69956.704540</td>\n",
       "      <td>三角波</td>\n",
       "      <td>-0.016519</td>\n",
       "      <td>-0.016109</td>\n",
       "      <td>-0.015702</td>\n",
       "      <td>-0.015300</td>\n",
       "      <td>-0.014903</td>\n",
       "      <td>-0.014509</td>\n",
       "      <td>...</td>\n",
       "      <td>-0.019146</td>\n",
       "      <td>-0.019084</td>\n",
       "      <td>-0.018985</td>\n",
       "      <td>-0.018839</td>\n",
       "      <td>-0.018638</td>\n",
       "      <td>-0.018380</td>\n",
       "      <td>-0.018070</td>\n",
       "      <td>-0.017716</td>\n",
       "      <td>-0.017331</td>\n",
       "      <td>-0.016929</td>\n",
       "    </tr>\n",
       "    <tr>\n",
       "      <th>1065</th>\n",
       "      <td>25</td>\n",
       "      <td>396800</td>\n",
       "      <td>114626.134900</td>\n",
       "      <td>三角波</td>\n",
       "      <td>-0.020449</td>\n",
       "      <td>-0.019934</td>\n",
       "      <td>-0.019425</td>\n",
       "      <td>-0.018921</td>\n",
       "      <td>-0.018424</td>\n",
       "      <td>-0.017931</td>\n",
       "      <td>...</td>\n",
       "      <td>-0.023841</td>\n",
       "      <td>-0.023757</td>\n",
       "      <td>-0.023622</td>\n",
       "      <td>-0.023423</td>\n",
       "      <td>-0.023154</td>\n",
       "      <td>-0.022815</td>\n",
       "      <td>-0.022414</td>\n",
       "      <td>-0.021961</td>\n",
       "      <td>-0.021472</td>\n",
       "      <td>-0.020964</td>\n",
       "    </tr>\n",
       "    <tr>\n",
       "      <th>1066</th>\n",
       "      <td>25</td>\n",
       "      <td>396800</td>\n",
       "      <td>148231.523500</td>\n",
       "      <td>三角波</td>\n",
       "      <td>-0.023071</td>\n",
       "      <td>-0.022491</td>\n",
       "      <td>-0.021916</td>\n",
       "      <td>-0.021348</td>\n",
       "      <td>-0.020786</td>\n",
       "      <td>-0.020229</td>\n",
       "      <td>...</td>\n",
       "      <td>-0.026872</td>\n",
       "      <td>-0.026777</td>\n",
       "      <td>-0.026625</td>\n",
       "      <td>-0.026403</td>\n",
       "      <td>-0.026103</td>\n",
       "      <td>-0.025726</td>\n",
       "      <td>-0.025277</td>\n",
       "      <td>-0.024769</td>\n",
       "      <td>-0.024222</td>\n",
       "      <td>-0.023651</td>\n",
       "    </tr>\n",
       "  </tbody>\n",
       "</table>\n",
       "<p>1067 rows × 1028 columns</p>\n",
       "</div>"
      ],
      "text/plain": [
       "      温度，oC   频率，Hz      磁芯损耗，w/m3 励磁波形  0（磁通密度B，T）         1         2  \\\n",
       "0        25   50020    2525.795337  正弦波   -0.000109  0.000049  0.000207   \n",
       "1        25   50020    4427.524958  正弦波    0.000020  0.000215  0.000410   \n",
       "2        25   50020    5780.576037  正弦波    0.002607  0.002825  0.003043   \n",
       "3        25   50020   10983.412600  正弦波    0.003480  0.003759  0.004038   \n",
       "4        25   50020   14526.685680  正弦波    0.004069  0.004381  0.004693   \n",
       "...     ...     ...            ...  ...         ...       ...       ...   \n",
       "1062     25  396800   42412.471700  三角波   -0.013174 -0.012849 -0.012528   \n",
       "1063     25  396800   54351.812730  三角波   -0.014678 -0.014314 -0.013952   \n",
       "1064     25  396800   69956.704540  三角波   -0.016519 -0.016109 -0.015702   \n",
       "1065     25  396800  114626.134900  三角波   -0.020449 -0.019934 -0.019425   \n",
       "1066     25  396800  148231.523500  三角波   -0.023071 -0.022491 -0.021916   \n",
       "\n",
       "             3         4         5  ...      1014      1015      1016  \\\n",
       "0     0.000365  0.000523  0.000681  ... -0.001685 -0.001528 -0.001370   \n",
       "1     0.000605  0.000801  0.000995  ... -0.001928 -0.001733 -0.001539   \n",
       "2     0.003260  0.003477  0.003693  ...  0.000434  0.000651  0.000869   \n",
       "3     0.004316  0.004595  0.004873  ...  0.000696  0.000974  0.001253   \n",
       "4     0.005005  0.005317  0.005628  ...  0.000946  0.001258  0.001570   \n",
       "...        ...       ...       ...  ...       ...       ...       ...   \n",
       "1062 -0.012209 -0.011895 -0.011583  ... -0.015220 -0.015179 -0.015108   \n",
       "1063 -0.013595 -0.013242 -0.012892  ... -0.017036 -0.016983 -0.016895   \n",
       "1064 -0.015300 -0.014903 -0.014509  ... -0.019146 -0.019084 -0.018985   \n",
       "1065 -0.018921 -0.018424 -0.017931  ... -0.023841 -0.023757 -0.023622   \n",
       "1066 -0.021348 -0.020786 -0.020229  ... -0.026872 -0.026777 -0.026625   \n",
       "\n",
       "          1017      1018      1019      1020      1021      1022      1023  \n",
       "0    -0.001213 -0.001055 -0.000898 -0.000740 -0.000582 -0.000425 -0.000267  \n",
       "1    -0.001344 -0.001149 -0.000955 -0.000760 -0.000566 -0.000371 -0.000176  \n",
       "2     0.001086  0.001304  0.001521  0.001738  0.001955  0.002173  0.002390  \n",
       "3     0.001531  0.001809  0.002087  0.002365  0.002644  0.002922  0.003201  \n",
       "4     0.001883  0.002195  0.002507  0.002819  0.003132  0.003444  0.003756  \n",
       "...        ...       ...       ...       ...       ...       ...       ...  \n",
       "1062 -0.014999 -0.014846 -0.014647 -0.014403 -0.014123 -0.013818 -0.013499  \n",
       "1063 -0.016763 -0.016581 -0.016348 -0.016067 -0.015748 -0.015403 -0.015043  \n",
       "1064 -0.018839 -0.018638 -0.018380 -0.018070 -0.017716 -0.017331 -0.016929  \n",
       "1065 -0.023423 -0.023154 -0.022815 -0.022414 -0.021961 -0.021472 -0.020964  \n",
       "1066 -0.026403 -0.026103 -0.025726 -0.025277 -0.024769 -0.024222 -0.023651  \n",
       "\n",
       "[1067 rows x 1028 columns]"
      ]
     },
     "execution_count": 2,
     "metadata": {},
     "output_type": "execute_result"
    }
   ],
   "source": [
    "# 读取特定的工作表，可以是工作表的名称或索引\n",
    "df1 = pd.read_excel(file_path, sheet_name='材料4')\n",
    "df1=df1[df['励磁波形']=='正弦波']\n",
    "df1"
   ]
  },
  {
   "cell_type": "code",
   "execution_count": 3,
   "metadata": {},
   "outputs": [
    {
     "data": {
      "text/html": [
       "<div>\n",
       "<style scoped>\n",
       "    .dataframe tbody tr th:only-of-type {\n",
       "        vertical-align: middle;\n",
       "    }\n",
       "\n",
       "    .dataframe tbody tr th {\n",
       "        vertical-align: top;\n",
       "    }\n",
       "\n",
       "    .dataframe thead th {\n",
       "        text-align: right;\n",
       "    }\n",
       "</style>\n",
       "<table border=\"1\" class=\"dataframe\">\n",
       "  <thead>\n",
       "    <tr style=\"text-align: right;\">\n",
       "      <th></th>\n",
       "      <th>T</th>\n",
       "      <th>F</th>\n",
       "      <th>P</th>\n",
       "      <th>B</th>\n",
       "    </tr>\n",
       "  </thead>\n",
       "  <tbody>\n",
       "    <tr>\n",
       "      <th>0</th>\n",
       "      <td>3.218876</td>\n",
       "      <td>10.820178</td>\n",
       "      <td>7.834311</td>\n",
       "      <td>-3.659045</td>\n",
       "    </tr>\n",
       "    <tr>\n",
       "      <th>1</th>\n",
       "      <td>3.218876</td>\n",
       "      <td>10.820178</td>\n",
       "      <td>8.395596</td>\n",
       "      <td>-3.450843</td>\n",
       "    </tr>\n",
       "    <tr>\n",
       "      <th>2</th>\n",
       "      <td>3.218876</td>\n",
       "      <td>10.820178</td>\n",
       "      <td>8.662259</td>\n",
       "      <td>-3.343614</td>\n",
       "    </tr>\n",
       "    <tr>\n",
       "      <th>3</th>\n",
       "      <td>3.218876</td>\n",
       "      <td>10.820178</td>\n",
       "      <td>9.304141</td>\n",
       "      <td>-3.094386</td>\n",
       "    </tr>\n",
       "    <tr>\n",
       "      <th>4</th>\n",
       "      <td>3.218876</td>\n",
       "      <td>10.820178</td>\n",
       "      <td>9.583743</td>\n",
       "      <td>-2.983443</td>\n",
       "    </tr>\n",
       "    <tr>\n",
       "      <th>...</th>\n",
       "      <td>...</td>\n",
       "      <td>...</td>\n",
       "      <td>...</td>\n",
       "      <td>...</td>\n",
       "    </tr>\n",
       "    <tr>\n",
       "      <th>1062</th>\n",
       "      <td>3.218876</td>\n",
       "      <td>12.891188</td>\n",
       "      <td>10.655198</td>\n",
       "      <td>-4.133273</td>\n",
       "    </tr>\n",
       "    <tr>\n",
       "      <th>1063</th>\n",
       "      <td>3.218876</td>\n",
       "      <td>12.891188</td>\n",
       "      <td>10.903233</td>\n",
       "      <td>-4.017292</td>\n",
       "    </tr>\n",
       "    <tr>\n",
       "      <th>1064</th>\n",
       "      <td>3.218876</td>\n",
       "      <td>12.891188</td>\n",
       "      <td>11.155632</td>\n",
       "      <td>-3.899025</td>\n",
       "    </tr>\n",
       "    <tr>\n",
       "      <th>1065</th>\n",
       "      <td>3.218876</td>\n",
       "      <td>12.891188</td>\n",
       "      <td>11.649431</td>\n",
       "      <td>-3.674012</td>\n",
       "    </tr>\n",
       "    <tr>\n",
       "      <th>1066</th>\n",
       "      <td>3.218876</td>\n",
       "      <td>12.891188</td>\n",
       "      <td>11.906531</td>\n",
       "      <td>-3.556839</td>\n",
       "    </tr>\n",
       "  </tbody>\n",
       "</table>\n",
       "<p>1067 rows × 4 columns</p>\n",
       "</div>"
      ],
      "text/plain": [
       "             T          F          P         B\n",
       "0     3.218876  10.820178   7.834311 -3.659045\n",
       "1     3.218876  10.820178   8.395596 -3.450843\n",
       "2     3.218876  10.820178   8.662259 -3.343614\n",
       "3     3.218876  10.820178   9.304141 -3.094386\n",
       "4     3.218876  10.820178   9.583743 -2.983443\n",
       "...        ...        ...        ...       ...\n",
       "1062  3.218876  12.891188  10.655198 -4.133273\n",
       "1063  3.218876  12.891188  10.903233 -4.017292\n",
       "1064  3.218876  12.891188  11.155632 -3.899025\n",
       "1065  3.218876  12.891188  11.649431 -3.674012\n",
       "1066  3.218876  12.891188  11.906531 -3.556839\n",
       "\n",
       "[1067 rows x 4 columns]"
      ]
     },
     "execution_count": 3,
     "metadata": {},
     "output_type": "execute_result"
    }
   ],
   "source": [
    "import numpy as np\n",
    "last_1024_columns = df1.iloc[:, -1024:]\n",
    "df1=df1.iloc[:, :-1025]\n",
    "# 计算每一行的最大值\n",
    "df1['B'] = last_1024_columns.max(axis=1)\n",
    "new_column_names = {\n",
    "    '温度，oC': 'T',\n",
    "    '频率，Hz': 'F',\n",
    "    '磁芯损耗，w/m3': 'P',\n",
    "    'B': 'B'\n",
    "}\n",
    "df1 = df1.rename(columns=new_column_names)\n",
    "df1[['T','F','P', 'B']] = np.log(df1[['T','F','P', 'B']])\n",
    "df1"
   ]
  },
  {
   "cell_type": "code",
   "execution_count": 4,
   "metadata": {},
   "outputs": [
    {
     "name": "stderr",
     "output_type": "stream",
     "text": [
      "C:\\Users\\74860\\AppData\\Local\\Temp\\ipykernel_20280\\1040560344.py:7: RuntimeWarning: invalid value encountered in power\n",
      "  return A * np.power(F, C) * np.power(B, D)\n",
      "C:\\Users\\74860\\AppData\\Local\\Temp\\ipykernel_20280\\1040560344.py:18: OptimizeWarning: Covariance of the parameters could not be estimated\n",
      "  params, covariance = curve_fit(model_func, X_data, P, p0=[1, 1, 1])\n"
     ]
    },
    {
     "data": {
      "text/plain": [
       "nan"
      ]
     },
     "execution_count": 4,
     "metadata": {},
     "output_type": "execute_result"
    }
   ],
   "source": [
    "import numpy as np\n",
    "from scipy.optimize import curve_fit\n",
    "\n",
    "# 定义模型函数\n",
    "def model_func(X, A, C, D):\n",
    "    F,B=X\n",
    "    return A * np.power(F, C) * np.power(B, D)\n",
    "\n",
    "# 假设你有一些数据\n",
    "F = np.array(df1['F'])  # 自变量F的值\n",
    "B = np.array(df1['B'])  # 自变量B的值\n",
    "P = np.array(df1['P'])  # 因变量P的值\n",
    "\n",
    "# 将自变量组合成一个二维数组\n",
    "X_data = np.vstack((F, B))\n",
    "\n",
    "# 使用curve_fit进行拟合\n",
    "params, covariance = curve_fit(model_func, X_data, P, p0=[1, 1, 1])\n",
    "\n",
    "A, C, D = params\n",
    "df1['ypred1']=A * F**C * B**D\n",
    "mse1 = ((df1['P'] - df1['ypred1']) ** 2).mean()\n",
    "mse1"
   ]
  },
  {
   "cell_type": "code",
   "execution_count": 5,
   "metadata": {},
   "outputs": [
    {
     "data": {
      "text/plain": [
       "{'train_input': tensor([[ 4.4998, 11.1682, -3.2497],\n",
       "         [ 3.2189, 12.7794, -4.3652],\n",
       "         [ 3.2189, 11.7429, -3.3521],\n",
       "         ...,\n",
       "         [ 3.2189, 12.0885, -3.3470],\n",
       "         [ 3.2189, 12.6650, -3.6883],\n",
       "         [ 4.2485, 12.0886, -3.5885]], device='cuda:0'),\n",
       " 'test_input': tensor([[ 4.4998, 11.8584, -3.1267]], device='cuda:0'),\n",
       " 'train_label': tensor([[ 8.1163],\n",
       "         [ 8.5728],\n",
       "         [ 9.6848],\n",
       "         ...,\n",
       "         [10.1374],\n",
       "         [11.1180],\n",
       "         [ 8.8271]], device='cuda:0'),\n",
       " 'test_label': tensor([[9.4244]], device='cuda:0')}"
      ]
     },
     "execution_count": 5,
     "metadata": {},
     "output_type": "execute_result"
    }
   ],
   "source": [
    "y=df1['P'].values\n",
    "X=df1[['T','F','B']].values\n",
    "X_tensor = torch.tensor(X, dtype=torch.float32)\n",
    "y_tensor = torch.tensor(y, dtype=torch.float32).view(-1, 1)\n",
    "X_train, X_test, y_train, y_test = train_test_split(X_tensor, y_tensor, test_size=0.00001, random_state=42)\n",
    "if torch.cuda.is_available():\n",
    "    train_dataset = TensorDataset(X_train.to('cuda:0'), y_train.to('cuda:0'))\n",
    "    test_dataset = TensorDataset(X_test.to('cuda:0'), y_test.to('cuda:0'))\n",
    "\n",
    "# 创建一个字典来存储数据集\n",
    "dataset = {\n",
    "    'train_input': train_dataset.tensors[0],\n",
    "    'test_input': test_dataset.tensors[0],\n",
    "    'train_label': train_dataset.tensors[1],\n",
    "    'test_label':test_dataset.tensors[1]\n",
    "}\n",
    "dataset"
   ]
  },
  {
   "cell_type": "code",
   "execution_count": 6,
   "metadata": {},
   "outputs": [],
   "source": [
    "import torch\n",
    "torch.set_default_dtype(torch.float64) # 设置默认张量数据类型为双精度浮点数\n",
    "torch.manual_seed(33) # 设置随机数种子为33\n",
    "from kan import *\n",
    "device = torch.device(\"cuda:0\" if torch.cuda.is_available() else \"cpu\")\n",
    "# 创建一个KAN模型：\n",
    "# 输入维度为2，输出维度为1，隐藏层有5个神经元\n",
    "# 使用三次样条（k=3），将输入空间划分为5个网格间隔（grid=5）\n",
    "# 设置随机数种子为0\n",
    "model = KAN(width=[3,5,1], grid=5, k=3, seed=0,device=device)"
   ]
  },
  {
   "cell_type": "code",
   "execution_count": 7,
   "metadata": {},
   "outputs": [
    {
     "data": {
      "image/png": "[encoded data removed]",
      "text/plain": [
       "<Figure size 500x400 with 21 Axes>"
      ]
     },
     "metadata": {},
     "output_type": "display_data"
    }
   ],
   "source": [
    "# 绘制初始化时的KAN模型图形\n",
    "model(dataset['train_input']);\n",
    "# 使用 plot 方法绘制模型的输出结果\n",
    "# 设置 beta 参数为 100，用于控制平滑度\n",
    "model.plot(beta=50)"
   ]
  },
  {
   "cell_type": "code",
   "execution_count": 8,
   "metadata": {},
   "outputs": [
    {
     "name": "stderr",
     "output_type": "stream",
     "text": [
      "description:   0%|                                                           | 0/40 [00:00<?, ?it/s]c:\\Users\\74860\\Desktop\\deep learning\\kanmodel\\kan\\KAN.py:327: UserWarning: std(): degrees of freedom is <= 0. Correction should be strictly less than the reduction factor (input numel divided by output numel). (Triggered internally at C:\\actions-runner\\_work\\pytorch\\pytorch\\builder\\windows\\pytorch\\aten\\src\\ATen\\native\\ReduceOps.cpp:1760.)\n",
      "  self.acts_scale_std.append(torch.std(postacts, dim=0))\n",
      "train loss: 2.43e-01 | test loss: 1.96e-01 | reg: 3.32e+01 : 100%|██| 40/40 [00:16<00:00,  2.41it/s]\n"
     ]
    }
   ],
   "source": [
    "# 对模型进行训练\n",
    "# 使用 LBFGS 优化器\n",
    "# 进行 20 步训练\n",
    "# 设置正则化参数为 0.01\n",
    "# 设置信息熵正则化参数为 10.0\n",
    "# 在给定的设备上进行训练\n",
    "model.train(dataset, opt=\"LBFGS\", steps=40, lamb=0.01, lamb_entropy=10.,device=device);"
   ]
  },
  {
   "cell_type": "code",
   "execution_count": 9,
   "metadata": {},
   "outputs": [
    {
     "data": {
      "image/png": "[encoded data removed]",
      "text/plain": [
       "<Figure size 500x400 with 21 Axes>"
      ]
     },
     "metadata": {},
     "output_type": "display_data"
    }
   ],
   "source": [
    "model.plot() # 使用 plot 方法绘制训练后的KAN模型"
   ]
  },
  {
   "cell_type": "code",
   "execution_count": 10,
   "metadata": {},
   "outputs": [
    {
     "data": {
      "image/png": "[encoded data removed]",
      "text/plain": [
       "<Figure size 500x400 with 21 Axes>"
      ]
     },
     "metadata": {},
     "output_type": "display_data"
    }
   ],
   "source": [
    "# 对KAN模型进行修剪\n",
    "model.prune()\n",
    "# 使用 plot 方法绘制修剪后的KAN模型\n",
    "# 设置 mask=True 以保持原始形状\n",
    "model.plot(mask=True)"
   ]
  },
  {
   "cell_type": "code",
   "execution_count": 11,
   "metadata": {},
   "outputs": [
    {
     "data": {
      "image/png": "[encoded data removed]",
      "text/plain": [
       "<Figure size 500x400 with 5 Axes>"
      ]
     },
     "metadata": {},
     "output_type": "display_data"
    }
   ],
   "source": [
    "model = model.prune()\n",
    "# 使用修剪后的模型对训练输入数据进行预测\n",
    "model(dataset['train_input'])\n",
    "# 使用 plot 方法绘制修剪后的KAN模型的输出结果\n",
    "model.plot()"
   ]
  },
  {
   "cell_type": "code",
   "execution_count": 13,
   "metadata": {},
   "outputs": [
    {
     "name": "stderr",
     "output_type": "stream",
     "text": [
      "train loss: 2.46e-01 | test loss: 2.29e-01 | reg: 1.40e+01 : 100%|██| 20/20 [00:05<00:00,  4.00it/s]\n"
     ]
    },
    {
     "data": {
      "image/png": "[encoded data removed]",
      "text/plain": [
       "<Figure size 500x400 with 5 Axes>"
      ]
     },
     "metadata": {},
     "output_type": "display_data"
    },
    {
     "data": {
      "image/png": "[encoded data removed]",
      "text/plain": [
       "<Figure size 500x400 with 5 Axes>"
      ]
     },
     "metadata": {},
     "output_type": "display_data"
    }
   ],
   "source": [
    "model.train(dataset, opt=\"LBFGS\", steps=20, lamb=0.01, lamb_entropy=10.,device=device);\n",
    "# 对KAN模型进行修剪\n",
    "model.prune()\n",
    "# 使用 plot 方法绘制修剪后的KAN模型\n",
    "# 设置 mask=True 以保持原始形状\n",
    "model.plot(mask=True)\n",
    "model = model.prune()\n",
    "# 使用修剪后的模型对训练输入数据进行预测\n",
    "model(dataset['train_input'])\n",
    "# 使用 plot 方法绘制修剪后的KAN模型的输出结果\n",
    "model.plot()"
   ]
  },
  {
   "cell_type": "code",
   "execution_count": 14,
   "metadata": {},
   "outputs": [
    {
     "name": "stderr",
     "output_type": "stream",
     "text": [
      "train loss: 2.39e-01 | test loss: 1.62e-01 | reg: 1.61e+01 : 100%|████| 5/5 [00:01<00:00,  3.55it/s]\n"
     ]
    },
    {
     "data": {
      "image/png": "[encoded data removed]",
      "text/plain": [
       "<Figure size 500x400 with 5 Axes>"
      ]
     },
     "metadata": {},
     "output_type": "display_data"
    },
    {
     "data": {
      "image/png": "[encoded data removed]",
      "text/plain": [
       "<Figure size 500x400 with 5 Axes>"
      ]
     },
     "metadata": {},
     "output_type": "display_data"
    }
   ],
   "source": [
    "model.train(dataset, opt=\"LBFGS\", steps=5, lamb=0.01, lamb_entropy=10.,device=device);\n",
    "# 对KAN模型进行修剪\n",
    "model.prune()\n",
    "# 使用 plot 方法绘制修剪后的KAN模型\n",
    "# 设置 mask=True 以保持原始形状\n",
    "model.plot(mask=True)\n",
    "model = model.prune()\n",
    "# 使用修剪后的模型对训练输入数据进行预测\n",
    "model(dataset['train_input'])\n",
    "# 使用 plot 方法绘制修剪后的KAN模型的输出结果\n",
    "model.plot()"
   ]
  },
  {
   "cell_type": "code",
   "execution_count": 15,
   "metadata": {},
   "outputs": [
    {
     "name": "stderr",
     "output_type": "stream",
     "text": [
      "train loss: 2.44e-01 | test loss: 1.55e-01 | reg: 1.72e+01 : 100%|████| 5/5 [00:01<00:00,  2.95it/s]\n"
     ]
    },
    {
     "data": {
      "image/png": "[encoded data removed]",
      "text/plain": [
       "<Figure size 500x400 with 5 Axes>"
      ]
     },
     "metadata": {},
     "output_type": "display_data"
    },
    {
     "data": {
      "image/png": "[encoded data removed]",
      "text/plain": [
       "<Figure size 500x400 with 5 Axes>"
      ]
     },
     "metadata": {},
     "output_type": "display_data"
    }
   ],
   "source": [
    "model.train(dataset, opt=\"LBFGS\", steps=5, lamb=0.01, lamb_entropy=10.,device=device);\n",
    "# 对KAN模型进行修剪\n",
    "model.prune()\n",
    "# 使用 plot 方法绘制修剪后的KAN模型\n",
    "# 设置 mask=True 以保持原始形状\n",
    "model.plot(mask=True)\n",
    "model = model.prune()\n",
    "# 使用修剪后的模型对训练输入数据进行预测\n",
    "model(dataset['train_input'])\n",
    "# 使用 plot 方法绘制修剪后的KAN模型的输出结果\n",
    "model.plot()"
   ]
  },
  {
   "cell_type": "code",
   "execution_count": 18,
   "metadata": {},
   "outputs": [
    {
     "data": {
      "text/plain": [
       "tensor([[ 4.2485, 11.7429, -2.9003],\n",
       "        [ 3.2189, 11.8584, -1.5268],\n",
       "        [ 3.2189, 11.3973, -3.9276],\n",
       "        ...,\n",
       "        [ 3.2189, 11.5124, -1.5167],\n",
       "        [ 4.4998, 12.5491, -3.5864],\n",
       "        [ 4.4998, 11.2830, -2.4408]], dtype=torch.float32)"
      ]
     },
     "execution_count": 18,
     "metadata": {},
     "output_type": "execute_result"
    }
   ],
   "source": [
    "X_train"
   ]
  },
  {
   "cell_type": "code",
   "execution_count": 21,
   "metadata": {},
   "outputs": [
    {
     "ename": "TypeError",
     "evalue": "model_predict() takes 1 positional argument but 2 were given",
     "output_type": "error",
     "traceback": [
      "\u001b[1;31m---------------------------------------------------------------------------\u001b[0m",
      "\u001b[1;31mTypeError\u001b[0m                                 Traceback (most recent call last)",
      "Cell \u001b[1;32mIn[21], line 3\u001b[0m\n\u001b[0;32m      1\u001b[0m \u001b[38;5;28;01mimport\u001b[39;00m \u001b[38;5;21;01mshap\u001b[39;00m\n\u001b[0;32m      2\u001b[0m explainer \u001b[38;5;241m=\u001b[39m shap\u001b[38;5;241m.\u001b[39mExplainer(model\u001b[38;5;241m.\u001b[39mmodel_predict,dataset[\u001b[38;5;124m'\u001b[39m\u001b[38;5;124mtrain_input\u001b[39m\u001b[38;5;124m'\u001b[39m]\u001b[38;5;241m.\u001b[39mcpu()\u001b[38;5;241m.\u001b[39mnumpy())  \u001b[38;5;66;03m# 使用预测函数\u001b[39;00m\n\u001b[1;32m----> 3\u001b[0m shap_values \u001b[38;5;241m=\u001b[39m \u001b[43mexplainer\u001b[49m\u001b[43m(\u001b[49m\u001b[43mdataset\u001b[49m\u001b[43m[\u001b[49m\u001b[38;5;124;43m'\u001b[39;49m\u001b[38;5;124;43mtrain_input\u001b[39;49m\u001b[38;5;124;43m'\u001b[39;49m\u001b[43m]\u001b[49m\u001b[38;5;241;43m.\u001b[39;49m\u001b[43mcpu\u001b[49m\u001b[43m(\u001b[49m\u001b[43m)\u001b[49m\u001b[38;5;241;43m.\u001b[39;49m\u001b[43mnumpy\u001b[49m\u001b[43m(\u001b[49m\u001b[43m)\u001b[49m\u001b[43m)\u001b[49m\n",
      "File \u001b[1;32mc:\\Users\\74860\\kanenv\\lib\\site-packages\\shap\\explainers\\_exact.py:75\u001b[0m, in \u001b[0;36mExactExplainer.__call__\u001b[1;34m(self, max_evals, main_effects, error_bounds, batch_size, interactions, silent, *args)\u001b[0m\n\u001b[0;32m     72\u001b[0m \u001b[38;5;250m\u001b[39m\u001b[38;5;124;03m\"\"\"Explains the output of model(*args), where args represents one or more parallel iterators.\"\"\"\u001b[39;00m\n\u001b[0;32m     73\u001b[0m \u001b[38;5;66;03m# we entirely rely on the general call implementation, we override just to remove **kwargs\u001b[39;00m\n\u001b[0;32m     74\u001b[0m \u001b[38;5;66;03m# from the function signature\u001b[39;00m\n\u001b[1;32m---> 75\u001b[0m \u001b[38;5;28;01mreturn\u001b[39;00m \u001b[38;5;28;43msuper\u001b[39;49m\u001b[43m(\u001b[49m\u001b[43m)\u001b[49m\u001b[38;5;241;43m.\u001b[39;49m\u001b[38;5;21;43m__call__\u001b[39;49m\u001b[43m(\u001b[49m\n\u001b[0;32m     76\u001b[0m \u001b[43m    \u001b[49m\u001b[38;5;241;43m*\u001b[39;49m\u001b[43margs\u001b[49m\u001b[43m,\u001b[49m\u001b[43m \u001b[49m\u001b[43mmax_evals\u001b[49m\u001b[38;5;241;43m=\u001b[39;49m\u001b[43mmax_evals\u001b[49m\u001b[43m,\u001b[49m\u001b[43m \u001b[49m\u001b[43mmain_effects\u001b[49m\u001b[38;5;241;43m=\u001b[39;49m\u001b[43mmain_effects\u001b[49m\u001b[43m,\u001b[49m\u001b[43m \u001b[49m\u001b[43merror_bounds\u001b[49m\u001b[38;5;241;43m=\u001b[39;49m\u001b[43merror_bounds\u001b[49m\u001b[43m,\u001b[49m\n\u001b[0;32m     77\u001b[0m \u001b[43m    \u001b[49m\u001b[43mbatch_size\u001b[49m\u001b[38;5;241;43m=\u001b[39;49m\u001b[43mbatch_size\u001b[49m\u001b[43m,\u001b[49m\u001b[43m \u001b[49m\u001b[43minteractions\u001b[49m\u001b[38;5;241;43m=\u001b[39;49m\u001b[43minteractions\u001b[49m\u001b[43m,\u001b[49m\u001b[43m \u001b[49m\u001b[43msilent\u001b[49m\u001b[38;5;241;43m=\u001b[39;49m\u001b[43msilent\u001b[49m\n\u001b[0;32m     78\u001b[0m \u001b[43m\u001b[49m\u001b[43m)\u001b[49m\n",
      "File \u001b[1;32mc:\\Users\\74860\\kanenv\\lib\\site-packages\\shap\\explainers\\_explainer.py:266\u001b[0m, in \u001b[0;36mExplainer.__call__\u001b[1;34m(self, max_evals, main_effects, error_bounds, batch_size, outputs, silent, *args, **kwargs)\u001b[0m\n\u001b[0;32m    264\u001b[0m     feature_names \u001b[38;5;241m=\u001b[39m [[] \u001b[38;5;28;01mfor\u001b[39;00m _ \u001b[38;5;129;01min\u001b[39;00m \u001b[38;5;28mrange\u001b[39m(\u001b[38;5;28mlen\u001b[39m(args))]\n\u001b[0;32m    265\u001b[0m \u001b[38;5;28;01mfor\u001b[39;00m row_args \u001b[38;5;129;01min\u001b[39;00m show_progress(\u001b[38;5;28mzip\u001b[39m(\u001b[38;5;241m*\u001b[39margs), num_rows, \u001b[38;5;28mself\u001b[39m\u001b[38;5;241m.\u001b[39m\u001b[38;5;18m__class__\u001b[39m\u001b[38;5;241m.\u001b[39m\u001b[38;5;18m__name__\u001b[39m\u001b[38;5;241m+\u001b[39m\u001b[38;5;124m\"\u001b[39m\u001b[38;5;124m explainer\u001b[39m\u001b[38;5;124m\"\u001b[39m, silent):\n\u001b[1;32m--> 266\u001b[0m     row_result \u001b[38;5;241m=\u001b[39m \u001b[38;5;28mself\u001b[39m\u001b[38;5;241m.\u001b[39mexplain_row(\n\u001b[0;32m    267\u001b[0m         \u001b[38;5;241m*\u001b[39mrow_args, max_evals\u001b[38;5;241m=\u001b[39mmax_evals, main_effects\u001b[38;5;241m=\u001b[39mmain_effects, error_bounds\u001b[38;5;241m=\u001b[39merror_bounds,\n\u001b[0;32m    268\u001b[0m         batch_size\u001b[38;5;241m=\u001b[39mbatch_size, outputs\u001b[38;5;241m=\u001b[39moutputs, silent\u001b[38;5;241m=\u001b[39msilent, \u001b[38;5;241m*\u001b[39m\u001b[38;5;241m*\u001b[39mkwargs\n\u001b[0;32m    269\u001b[0m     )\n\u001b[0;32m    270\u001b[0m     values\u001b[38;5;241m.\u001b[39mappend(row_result\u001b[38;5;241m.\u001b[39mget(\u001b[38;5;124m\"\u001b[39m\u001b[38;5;124mvalues\u001b[39m\u001b[38;5;124m\"\u001b[39m, \u001b[38;5;28;01mNone\u001b[39;00m))\n\u001b[0;32m    271\u001b[0m     output_indices\u001b[38;5;241m.\u001b[39mappend(row_result\u001b[38;5;241m.\u001b[39mget(\u001b[38;5;124m\"\u001b[39m\u001b[38;5;124moutput_indices\u001b[39m\u001b[38;5;124m\"\u001b[39m, \u001b[38;5;28;01mNone\u001b[39;00m))\n",
      "File \u001b[1;32mc:\\Users\\74860\\kanenv\\lib\\site-packages\\shap\\explainers\\_exact.py:117\u001b[0m, in \u001b[0;36mExactExplainer.explain_row\u001b[1;34m(self, max_evals, main_effects, error_bounds, batch_size, outputs, interactions, silent, *row_args)\u001b[0m\n\u001b[0;32m    114\u001b[0m         extended_delta_indexes[i] \u001b[38;5;241m=\u001b[39m inds[delta_indexes[i]]\n\u001b[0;32m    116\u001b[0m \u001b[38;5;66;03m# run the model\u001b[39;00m\n\u001b[1;32m--> 117\u001b[0m outputs \u001b[38;5;241m=\u001b[39m \u001b[43mfm\u001b[49m\u001b[43m(\u001b[49m\u001b[43mextended_delta_indexes\u001b[49m\u001b[43m,\u001b[49m\u001b[43m \u001b[49m\u001b[43mzero_index\u001b[49m\u001b[38;5;241;43m=\u001b[39;49m\u001b[38;5;241;43m0\u001b[39;49m\u001b[43m,\u001b[49m\u001b[43m \u001b[49m\u001b[43mbatch_size\u001b[49m\u001b[38;5;241;43m=\u001b[39;49m\u001b[43mbatch_size\u001b[49m\u001b[43m)\u001b[49m\n\u001b[0;32m    119\u001b[0m \u001b[38;5;66;03m# Shapley values\u001b[39;00m\n\u001b[0;32m    120\u001b[0m \u001b[38;5;66;03m# Care: Need to distinguish between `True` and `1`\u001b[39;00m\n\u001b[0;32m    121\u001b[0m \u001b[38;5;28;01mif\u001b[39;00m interactions \u001b[38;5;129;01mis\u001b[39;00m \u001b[38;5;28;01mFalse\u001b[39;00m \u001b[38;5;129;01mor\u001b[39;00m (interactions \u001b[38;5;241m==\u001b[39m \u001b[38;5;241m1\u001b[39m \u001b[38;5;129;01mand\u001b[39;00m interactions \u001b[38;5;129;01mis\u001b[39;00m \u001b[38;5;129;01mnot\u001b[39;00m \u001b[38;5;28;01mTrue\u001b[39;00m):\n\u001b[0;32m    122\u001b[0m \n\u001b[0;32m    123\u001b[0m     \u001b[38;5;66;03m# loop over all the outputs to update the rows\u001b[39;00m\n",
      "File \u001b[1;32mc:\\Users\\74860\\kanenv\\lib\\site-packages\\shap\\utils\\_masked_model.py:60\u001b[0m, in \u001b[0;36mMaskedModel.__call__\u001b[1;34m(self, masks, zero_index, batch_size)\u001b[0m\n\u001b[0;32m     58\u001b[0m \u001b[38;5;28;01mif\u001b[39;00m \u001b[38;5;28mlen\u001b[39m(masks\u001b[38;5;241m.\u001b[39mshape) \u001b[38;5;241m==\u001b[39m \u001b[38;5;241m1\u001b[39m:\n\u001b[0;32m     59\u001b[0m     \u001b[38;5;28;01mif\u001b[39;00m \u001b[38;5;28mgetattr\u001b[39m(\u001b[38;5;28mself\u001b[39m\u001b[38;5;241m.\u001b[39mmasker, \u001b[38;5;124m\"\u001b[39m\u001b[38;5;124msupports_delta_masking\u001b[39m\u001b[38;5;124m\"\u001b[39m, \u001b[38;5;28;01mFalse\u001b[39;00m):\n\u001b[1;32m---> 60\u001b[0m         \u001b[38;5;28;01mreturn\u001b[39;00m \u001b[38;5;28;43mself\u001b[39;49m\u001b[38;5;241;43m.\u001b[39;49m\u001b[43m_delta_masking_call\u001b[49m\u001b[43m(\u001b[49m\u001b[43mmasks\u001b[49m\u001b[43m,\u001b[49m\u001b[43m \u001b[49m\u001b[43mzero_index\u001b[49m\u001b[38;5;241;43m=\u001b[39;49m\u001b[43mzero_index\u001b[49m\u001b[43m,\u001b[49m\u001b[43m \u001b[49m\u001b[43mbatch_size\u001b[49m\u001b[38;5;241;43m=\u001b[39;49m\u001b[43mbatch_size\u001b[49m\u001b[43m)\u001b[49m\n\u001b[0;32m     62\u001b[0m     \u001b[38;5;66;03m# we need to convert from delta masking to a full masking call because we were given a delta masking\u001b[39;00m\n\u001b[0;32m     63\u001b[0m     \u001b[38;5;66;03m# input but the masker does not support delta masking\u001b[39;00m\n\u001b[0;32m     64\u001b[0m     \u001b[38;5;28;01melse\u001b[39;00m:\n\u001b[0;32m     65\u001b[0m         full_masks \u001b[38;5;241m=\u001b[39m np\u001b[38;5;241m.\u001b[39mzeros((\u001b[38;5;28mint\u001b[39m(np\u001b[38;5;241m.\u001b[39msum(masks \u001b[38;5;241m>\u001b[39m\u001b[38;5;241m=\u001b[39m \u001b[38;5;241m0\u001b[39m)), \u001b[38;5;28mself\u001b[39m\u001b[38;5;241m.\u001b[39m_masker_cols), dtype\u001b[38;5;241m=\u001b[39m\u001b[38;5;28mbool\u001b[39m)\n",
      "File \u001b[1;32mc:\\Users\\74860\\kanenv\\lib\\site-packages\\shap\\utils\\_masked_model.py:206\u001b[0m, in \u001b[0;36mMaskedModel._delta_masking_call\u001b[1;34m(self, masks, zero_index, batch_size)\u001b[0m\n\u001b[0;32m    203\u001b[0m     batch_positions[i\u001b[38;5;241m+\u001b[39m\u001b[38;5;241m1\u001b[39m] \u001b[38;5;241m=\u001b[39m batch_positions[i] \u001b[38;5;241m+\u001b[39m num_varying_rows[i]\n\u001b[0;32m    205\u001b[0m \u001b[38;5;66;03m# joined_masked_inputs = self._stack_inputs(all_masked_inputs)\u001b[39;00m\n\u001b[1;32m--> 206\u001b[0m outputs \u001b[38;5;241m=\u001b[39m \u001b[38;5;28;43mself\u001b[39;49m\u001b[38;5;241;43m.\u001b[39;49m\u001b[43mmodel\u001b[49m\u001b[43m(\u001b[49m\u001b[38;5;241;43m*\u001b[39;49m\u001b[43msubset_masked_inputs\u001b[49m\u001b[43m)\u001b[49m\n\u001b[0;32m    207\u001b[0m _assert_output_input_match(subset_masked_inputs, outputs)\n\u001b[0;32m    209\u001b[0m \u001b[38;5;28;01mif\u001b[39;00m \u001b[38;5;28mself\u001b[39m\u001b[38;5;241m.\u001b[39mlinearize_link \u001b[38;5;129;01mand\u001b[39;00m \u001b[38;5;28mself\u001b[39m\u001b[38;5;241m.\u001b[39mlink \u001b[38;5;241m!=\u001b[39m links\u001b[38;5;241m.\u001b[39midentity \u001b[38;5;129;01mand\u001b[39;00m \u001b[38;5;28mself\u001b[39m\u001b[38;5;241m.\u001b[39m_linearizing_weights \u001b[38;5;129;01mis\u001b[39;00m \u001b[38;5;28;01mNone\u001b[39;00m:\n",
      "File \u001b[1;32mc:\\Users\\74860\\kanenv\\lib\\site-packages\\shap\\models\\_model.py:21\u001b[0m, in \u001b[0;36mModel.__call__\u001b[1;34m(self, *args)\u001b[0m\n\u001b[0;32m     20\u001b[0m \u001b[38;5;28;01mdef\u001b[39;00m \u001b[38;5;21m__call__\u001b[39m(\u001b[38;5;28mself\u001b[39m, \u001b[38;5;241m*\u001b[39margs):\n\u001b[1;32m---> 21\u001b[0m     out \u001b[38;5;241m=\u001b[39m \u001b[38;5;28;43mself\u001b[39;49m\u001b[38;5;241;43m.\u001b[39;49m\u001b[43minner_model\u001b[49m\u001b[43m(\u001b[49m\u001b[38;5;241;43m*\u001b[39;49m\u001b[43margs\u001b[49m\u001b[43m)\u001b[49m\n\u001b[0;32m     22\u001b[0m     is_tensor \u001b[38;5;241m=\u001b[39m safe_isinstance(out, \u001b[38;5;124m\"\u001b[39m\u001b[38;5;124mtorch.Tensor\u001b[39m\u001b[38;5;124m\"\u001b[39m)\n\u001b[0;32m     23\u001b[0m     out \u001b[38;5;241m=\u001b[39m out\u001b[38;5;241m.\u001b[39mcpu()\u001b[38;5;241m.\u001b[39mdetach()\u001b[38;5;241m.\u001b[39mnumpy() \u001b[38;5;28;01mif\u001b[39;00m is_tensor \u001b[38;5;28;01melse\u001b[39;00m np\u001b[38;5;241m.\u001b[39marray(out)\n",
      "\u001b[1;31mTypeError\u001b[0m: model_predict() takes 1 positional argument but 2 were given"
     ]
    }
   ],
   "source": [
    "# import shap\n",
    "# explainer = shap.Explainer(model.model_predict,dataset['train_input'].cpu().numpy())  # 使用预测函数\n",
    "# shap_values = explainer(dataset['train_input'].cpu().numpy())\n"
   ]
  },
  {
   "cell_type": "code",
   "execution_count": 16,
   "metadata": {},
   "outputs": [
    {
     "name": "stdout",
     "output_type": "stream",
     "text": [
      "fixing (0,0,0) with x, r2=0.9887812822515869\n",
      "fixing (0,1,0) with x, r2=0.9836252963358637\n",
      "fixing (0,2,0) with x, r2=0.997478790751343\n",
      "fixing (1,0,0) with x, r2=0.9981058490810767\n"
     ]
    }
   ],
   "source": [
    "# 设置 mode 变量为 \"auto\" 或 \"manual\"，以确定激活函数的设置方式\n",
    "mode = \"auto\"  # 或者 mode = \"manual\"\n",
    "# 如果 mode 是 \"manual\"，则手动设置激活函数为符号函数\n",
    "if mode == \"manual\":\n",
    "    # 手动模式下，逐个指定隐藏层和输入层的激活函数\n",
    "    # 第一个参数表示层的索引，第二个和第三个参数表示神经元的索引\n",
    "    # 第四个参数为要设置的激活函数，例如 'sin', 'x^2', 'exp' 等\n",
    "    model.fix_symbolic(0,0,0,'x'); # 设置第一个隐藏层的第一个神经元的激活函数为正弦函数\n",
    "    model.fix_symbolic(0,1,0,'x'); # 设置第一个隐藏层的第二个神经元的激活函数为平方函数\n",
    "    model.fix_symbolic(0,2,0,'x'); # 设置第一个隐藏层的第二个神经元的激活函数为平方函数\n",
    "    model.fix_symbolic(1,0,0,'x'); # 设置输出层的第一个神经元的激活函数为指数函数\n",
    "# 如果 mode 是 \"auto\"，则自动设置激活函数为符号函数\n",
    "elif mode == \"auto\":\n",
    "    # 自动模式下，根据提供的激活函数库自动选择合适的符号函数作为激活函数\n",
    "    lib = ['x']\n",
    "    model.auto_symbolic(lib=lib)"
   ]
  },
  {
   "cell_type": "code",
   "execution_count": 18,
   "metadata": {},
   "outputs": [],
   "source": [
    "model.symbolic_formula()[0][0] # 获取模型的符号化公式\n",
    "df1['ypred']=-0.76*df1['T']+1.65*df1['F']+2.57*df1['B']+1.57\n",
    "# df1"
   ]
  },
  {
   "cell_type": "code",
   "execution_count": 19,
   "metadata": {},
   "outputs": [
    {
     "name": "stdout",
     "output_type": "stream",
     "text": [
      "Requirement already satisfied: statsmodels in c:\\users\\74860\\kanenv\\lib\\site-packages (0.14.3)\n",
      "Requirement already satisfied: numpy<3,>=1.22.3 in c:\\users\\74860\\kanenv\\lib\\site-packages (from statsmodels) (1.24.4)\n",
      "Requirement already satisfied: scipy!=1.9.2,>=1.8 in c:\\users\\74860\\kanenv\\lib\\site-packages (from statsmodels) (1.13.1)\n",
      "Requirement already satisfied: pandas!=2.1.0,>=1.4 in c:\\users\\74860\\kanenv\\lib\\site-packages (from statsmodels) (2.2.2)\n",
      "Requirement already satisfied: patsy>=0.5.6 in c:\\users\\74860\\kanenv\\lib\\site-packages (from statsmodels) (0.5.6)\n",
      "Requirement already satisfied: packaging>=21.3 in c:\\users\\74860\\kanenv\\lib\\site-packages (from statsmodels) (24.1)\n",
      "Requirement already satisfied: python-dateutil>=2.8.2 in c:\\users\\74860\\kanenv\\lib\\site-packages (from pandas!=2.1.0,>=1.4->statsmodels) (2.9.0.post0)\n",
      "Requirement already satisfied: pytz>=2020.1 in c:\\users\\74860\\kanenv\\lib\\site-packages (from pandas!=2.1.0,>=1.4->statsmodels) (2024.1)\n",
      "Requirement already satisfied: tzdata>=2022.7 in c:\\users\\74860\\kanenv\\lib\\site-packages (from pandas!=2.1.0,>=1.4->statsmodels) (2024.1)\n",
      "Requirement already satisfied: six in c:\\users\\74860\\kanenv\\lib\\site-packages (from patsy>=0.5.6->statsmodels) (1.16.0)\n"
     ]
    },
    {
     "name": "stderr",
     "output_type": "stream",
     "text": [
      "\n",
      "[notice] A new release of pip is available: 24.1 -> 24.2\n",
      "[notice] To update, run: python.exe -m pip install --upgrade pip\n"
     ]
    }
   ],
   "source": [
    "!pip install statsmodels"
   ]
  },
  {
   "cell_type": "code",
   "execution_count": 20,
   "metadata": {},
   "outputs": [
    {
     "name": "stdout",
     "output_type": "stream",
     "text": [
      "                            OLS Regression Results                            \n",
      "==============================================================================\n",
      "Dep. Variable:                      P   R-squared:                       0.914\n",
      "Model:                            OLS   Adj. R-squared:                  0.914\n",
      "Method:                 Least Squares   F-statistic:                     5690.\n",
      "Date:                Mon, 23 Sep 2024   Prob (F-statistic):               0.00\n",
      "Time:                        11:38:03   Log-Likelihood:                -739.49\n",
      "No. Observations:                1067   AIC:                             1485.\n",
      "Df Residuals:                    1064   BIC:                             1500.\n",
      "Df Model:                           2                                         \n",
      "Covariance Type:            nonrobust                                         \n",
      "==============================================================================\n",
      "                 coef    std err          t      P>|t|      [0.025      0.975]\n",
      "------------------------------------------------------------------------------\n",
      "const         -1.9365      0.294     -6.590      0.000      -2.513      -1.360\n",
      "F              1.6925      0.027     62.836      0.000       1.640       1.745\n",
      "B              2.5326      0.024    105.077      0.000       2.485       2.580\n",
      "==============================================================================\n",
      "Omnibus:                       70.818   Durbin-Watson:                   0.072\n",
      "Prob(Omnibus):                  0.000   Jarque-Bera (JB):               61.929\n",
      "Skew:                           0.518   Prob(JB):                     3.57e-14\n",
      "Kurtosis:                       2.435   Cond. No.                         246.\n",
      "==============================================================================\n",
      "\n",
      "Notes:\n",
      "[1] Standard Errors assume that the covariance matrix of the errors is correctly specified.\n"
     ]
    }
   ],
   "source": [
    "X = df1[['F', 'B']]\n",
    "y=df1['P']\n",
    "import statsmodels.api as sm\n",
    "X = sm.add_constant(X)\n",
    "model = sm.OLS(y, X)\n",
    "results = model.fit()\n",
    "print(results.summary())"
   ]
  },
  {
   "cell_type": "code",
   "execution_count": 21,
   "metadata": {},
   "outputs": [
    {
     "data": {
      "text/html": [
       "<div>\n",
       "<style scoped>\n",
       "    .dataframe tbody tr th:only-of-type {\n",
       "        vertical-align: middle;\n",
       "    }\n",
       "\n",
       "    .dataframe tbody tr th {\n",
       "        vertical-align: top;\n",
       "    }\n",
       "\n",
       "    .dataframe thead th {\n",
       "        text-align: right;\n",
       "    }\n",
       "</style>\n",
       "<table border=\"1\" class=\"dataframe\">\n",
       "  <thead>\n",
       "    <tr style=\"text-align: right;\">\n",
       "      <th></th>\n",
       "      <th>T</th>\n",
       "      <th>F</th>\n",
       "      <th>P</th>\n",
       "      <th>B</th>\n",
       "      <th>ypred1</th>\n",
       "      <th>ypred</th>\n",
       "    </tr>\n",
       "  </thead>\n",
       "  <tbody>\n",
       "    <tr>\n",
       "      <th>0</th>\n",
       "      <td>3.218876</td>\n",
       "      <td>10.820178</td>\n",
       "      <td>7.834311</td>\n",
       "      <td>-3.659045</td>\n",
       "      <td>7.109754</td>\n",
       "      <td>7.573202</td>\n",
       "    </tr>\n",
       "    <tr>\n",
       "      <th>1</th>\n",
       "      <td>3.218876</td>\n",
       "      <td>10.820178</td>\n",
       "      <td>8.395596</td>\n",
       "      <td>-3.450843</td>\n",
       "      <td>7.637047</td>\n",
       "      <td>8.108283</td>\n",
       "    </tr>\n",
       "    <tr>\n",
       "      <th>2</th>\n",
       "      <td>3.218876</td>\n",
       "      <td>10.820178</td>\n",
       "      <td>8.662259</td>\n",
       "      <td>-3.343614</td>\n",
       "      <td>7.908615</td>\n",
       "      <td>8.383860</td>\n",
       "    </tr>\n",
       "    <tr>\n",
       "      <th>3</th>\n",
       "      <td>3.218876</td>\n",
       "      <td>10.820178</td>\n",
       "      <td>9.304141</td>\n",
       "      <td>-3.094386</td>\n",
       "      <td>8.539810</td>\n",
       "      <td>9.024377</td>\n",
       "    </tr>\n",
       "    <tr>\n",
       "      <th>4</th>\n",
       "      <td>3.218876</td>\n",
       "      <td>10.820178</td>\n",
       "      <td>9.583743</td>\n",
       "      <td>-2.983443</td>\n",
       "      <td>8.820784</td>\n",
       "      <td>9.309500</td>\n",
       "    </tr>\n",
       "    <tr>\n",
       "      <th>...</th>\n",
       "      <td>...</td>\n",
       "      <td>...</td>\n",
       "      <td>...</td>\n",
       "      <td>...</td>\n",
       "      <td>...</td>\n",
       "      <td>...</td>\n",
       "    </tr>\n",
       "    <tr>\n",
       "      <th>1062</th>\n",
       "      <td>3.218876</td>\n",
       "      <td>12.891188</td>\n",
       "      <td>10.655198</td>\n",
       "      <td>-4.133273</td>\n",
       "      <td>9.413908</td>\n",
       "      <td>9.771603</td>\n",
       "    </tr>\n",
       "    <tr>\n",
       "      <th>1063</th>\n",
       "      <td>3.218876</td>\n",
       "      <td>12.891188</td>\n",
       "      <td>10.903233</td>\n",
       "      <td>-4.017292</td>\n",
       "      <td>9.707642</td>\n",
       "      <td>10.069675</td>\n",
       "    </tr>\n",
       "    <tr>\n",
       "      <th>1064</th>\n",
       "      <td>3.218876</td>\n",
       "      <td>12.891188</td>\n",
       "      <td>11.155632</td>\n",
       "      <td>-3.899025</td>\n",
       "      <td>10.007166</td>\n",
       "      <td>10.373621</td>\n",
       "    </tr>\n",
       "    <tr>\n",
       "      <th>1065</th>\n",
       "      <td>3.218876</td>\n",
       "      <td>12.891188</td>\n",
       "      <td>11.649431</td>\n",
       "      <td>-3.674012</td>\n",
       "      <td>10.577033</td>\n",
       "      <td>10.951903</td>\n",
       "    </tr>\n",
       "    <tr>\n",
       "      <th>1066</th>\n",
       "      <td>3.218876</td>\n",
       "      <td>12.891188</td>\n",
       "      <td>11.906531</td>\n",
       "      <td>-3.556839</td>\n",
       "      <td>10.873784</td>\n",
       "      <td>11.253038</td>\n",
       "    </tr>\n",
       "  </tbody>\n",
       "</table>\n",
       "<p>1067 rows × 6 columns</p>\n",
       "</div>"
      ],
      "text/plain": [
       "             T          F          P         B     ypred1      ypred\n",
       "0     3.218876  10.820178   7.834311 -3.659045   7.109754   7.573202\n",
       "1     3.218876  10.820178   8.395596 -3.450843   7.637047   8.108283\n",
       "2     3.218876  10.820178   8.662259 -3.343614   7.908615   8.383860\n",
       "3     3.218876  10.820178   9.304141 -3.094386   8.539810   9.024377\n",
       "4     3.218876  10.820178   9.583743 -2.983443   8.820784   9.309500\n",
       "...        ...        ...        ...       ...        ...        ...\n",
       "1062  3.218876  12.891188  10.655198 -4.133273   9.413908   9.771603\n",
       "1063  3.218876  12.891188  10.903233 -4.017292   9.707642  10.069675\n",
       "1064  3.218876  12.891188  11.155632 -3.899025  10.007166  10.373621\n",
       "1065  3.218876  12.891188  11.649431 -3.674012  10.577033  10.951903\n",
       "1066  3.218876  12.891188  11.906531 -3.556839  10.873784  11.253038\n",
       "\n",
       "[1067 rows x 6 columns]"
      ]
     },
     "execution_count": 21,
     "metadata": {},
     "output_type": "execute_result"
    }
   ],
   "source": [
    "df1['ypred1']=-1.9365+  1.6925*df1['F']+2.5326*df1['B']\n",
    "df1"
   ]
  },
  {
   "cell_type": "code",
   "execution_count": 22,
   "metadata": {},
   "outputs": [
    {
     "name": "stdout",
     "output_type": "stream",
     "text": [
      "365466573.9436085 1532679836.3029912\n"
     ]
    },
    {
     "ename": "",
     "evalue": "",
     "output_type": "error",
     "traceback": [
      "\u001b[1;31mThe Kernel crashed while executing code in the current cell or a previous cell. \n",
      "\u001b[1;31mPlease review the code in the cell(s) to identify a possible cause of the failure. \n",
      "\u001b[1;31mClick <a href='https://aka.ms/vscodeJupyterKernelCrash'>here</a> for more info. \n",
      "\u001b[1;31mView Jupyter <a href='command:jupyter.viewOutput'>log</a> for further details."
     ]
    }
   ],
   "source": [
    "mse = ((np.exp(df1['P']) - np.exp(df1['ypred'])) ** 2).mean()\n",
    "mse1 = ((np.exp(df1['P']) - np.exp(df1['ypred1'])) ** 2).mean()\n",
    "print(mse,mse1)"
   ]
  },
  {
   "cell_type": "code",
   "execution_count": null,
   "metadata": {},
   "outputs": [],
   "source": []
  }
 ],
 "metadata": {
  "kernelspec": {
   "display_name": "kanenv",
   "language": "python",
   "name": "python3"
  },
  "language_info": {
   "codemirror_mode": {
    "name": "ipython",
    "version": 3
   },
   "file_extension": ".py",
   "mimetype": "text/x-python",
   "name": "python",
   "nbconvert_exporter": "python",
   "pygments_lexer": "ipython3",
   "version": "3.9.7"
  }
 },
 "nbformat": 4,
 "nbformat_minor": 2
}
