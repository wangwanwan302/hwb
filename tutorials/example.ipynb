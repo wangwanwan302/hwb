{
 "cells": [
  {
   "cell_type": "markdown",
   "metadata": {
    "id": "tK3iwZAjHjLC"
   },
   "source": [
    "# Example Notebook\n",
    "\n",
    "In this notebook we demonstrate CompFS on the Syn1 experiment from the paper. This can be used on custom data if it is written as numpy arrays."
   ]
  },
  {
   "cell_type": "code",
   "execution_count": 39,
   "metadata": {
    "colab": {
     "base_uri": "https://localhost:8080/"
    },
    "id": "mpWMfto--idh",
    "outputId": "b4594c75-ae28-4c35-ef13-01949e812781"
   },
   "outputs": [
    {
     "name": "stdout",
     "output_type": "stream",
     "text": [
      "cuda:0\n"
     ]
    }
   ],
   "source": [
    "import numpy as np\n",
    "import torch\n",
    "import torch.nn as nn\n",
    "import random\n",
    "np.random.seed(42)\n",
    "random.seed(42)\n",
    "# Set and print device.\n",
    "device = torch.device(\"cuda:0\" if torch.cuda.is_available() else \"cpu\")\n",
    "print(device)"
   ]
  },
  {
   "cell_type": "markdown",
   "metadata": {},
   "source": [
    "# Import required files from CompFS Repo"
   ]
  },
  {
   "cell_type": "code",
   "execution_count": 40,
   "metadata": {},
   "outputs": [],
   "source": [
    "import sys\n",
    "sys.path.append('..')\n",
    "from compfs.metrics import accuracy, gsim, tpr_fdr#评分指标\n",
    "from compfs.models import CompFS, TorchModel#模型\n",
    "from compfs.thresholding_functions import make_lambda_threshold\n",
    "from compfs.datasets import NumpyDataset"
   ]
  },
  {
   "cell_type": "markdown",
   "metadata": {
    "id": "bKlg239SDEPs"
   },
   "source": [
    "# Example\n",
    "\n",
    "Here we demonstrate CompFS on Syn1. The two cells below can be edited to run your own data."
   ]
  },
  {
   "cell_type": "code",
   "execution_count": 41,
   "metadata": {
    "id": "afsRGOZjEKMQ"
   },
   "outputs": [],
   "source": [
    "# These can be changed to run your own data.\n",
    "import pandas as pd\n",
    "from sklearn.model_selection import train_test_split\n",
    "df=pd.read_csv('data.csv')\n",
    "x=df.iloc[:,1:-1]\n",
    "y=df.iloc[:,-1]\n",
    "# 获取列的数量\n",
    "num_columns = len(x.columns)+1\n",
    "# 生成从0开始的数字序列，长度与列的数量相匹配\n",
    "new_column_names = range(num_columns)\n",
    "new_column_names\n",
    "# # 使用 rename 方法重置列名\n",
    "x.rename(columns=dict(zip(df.columns, new_column_names)), inplace=True)\n",
    "from sklearn.preprocessing import StandardScaler\n",
    "\n",
    "# 假设 x 和 y 已经被定义\n",
    "# 创建标准化器实例\n",
    "scaler = StandardScaler()\n",
    "x1=scaler.fit_transform(x)\n",
    "x_np = x1.to_numpy() if isinstance(x1, (pd.DataFrame, pd.Series)) else x1\n",
    "y_np = y.to_numpy() if isinstance(y, (pd.DataFrame, pd.Series)) else y\n",
    "\n",
    "# 使用 train_test_split 函数\n",
    "X_train, X_val, y_train, y_val = train_test_split(x_np, y_np, test_size=0.2, random_state=42)\n",
    "# X_train = np.random.normal(size=(20000, 500))\n",
    "# y_train = np.array([((x[0] > 0.55) or (x[1] > 0.55)) for x in X_train])\n",
    "# X_val = np.random.normal(size=(200, 500))\n",
    "# y_val = np.array([((x[0] > 0.55) or (x[1] > 0.55)) for x in X_val])\n",
    "is_classification = True\n",
    "\n",
    "ground_truth_groups = [np.array([0]), np.array([1])]"
   ]
  },
  {
   "cell_type": "code",
   "execution_count": 42,
   "metadata": {},
   "outputs": [
    {
     "name": "stdout",
     "output_type": "stream",
     "text": [
      "(9920, 15) (9920,) (2480, 15) (2480,)\n"
     ]
    }
   ],
   "source": [
    "print(X_train.shape,y_train.shape,X_val.shape,y_val.shape)"
   ]
  },
  {
   "cell_type": "code",
   "execution_count": 43,
   "metadata": {
    "id": "jGlzWZtLFhs6"
   },
   "outputs": [],
   "source": [
    "# This config should be changed to use your own data, and find specific\n",
    "# hyperparameters for the problem.\n",
    "\n",
    "compfs_config = {\n",
    "    \"model\": CompFS,\n",
    "    \"model_config\": {\n",
    "        \"lr\": 0.001,\n",
    "        \"lr_decay\": 0.9,\n",
    "        \"batchsize\": 50,\n",
    "        \"num_epochs\": 30,\n",
    "        \"loss_func\": nn.CrossEntropyLoss(),\n",
    "        \"val_metric\": accuracy,\n",
    "        \"in_dim\": 15,\n",
    "        \"h_dim\": 20,\n",
    "        \"out_dim\": 3,\n",
    "        \"nlearners\": 10,\n",
    "        \"threshold_func\": make_lambda_threshold(0.5),\n",
    "        \"temp\": 0.1,\n",
    "        \"beta_s\": 4.5,\n",
    "        \"beta_s_decay\": 0.9,\n",
    "        \"beta_d\": 1.2,\n",
    "        \"beta_d_decay\": 0.9,\n",
    "    },\n",
    "}\n",
    "\n",
    "compfs_config[\"device\"] = device"
   ]
  },
  {
   "cell_type": "markdown",
   "metadata": {},
   "source": [
    "# Train a CompFS Model and see the Groups"
   ]
  },
  {
   "cell_type": "code",
   "execution_count": 44,
   "metadata": {
    "id": "lcG_8oYLE7FI"
   },
   "outputs": [
    {
     "name": "stdout",
     "output_type": "stream",
     "text": [
      "CompFS(\n",
      "  (loss_func): CrossEntropyLoss()\n",
      "  (learners): ModuleList(\n",
      "    (0-9): 10 x SingleFeatureSelector(\n",
      "      (to_hidden): FullyConnected(\n",
      "        (fc1): Linear(in_features=15, out_features=20, bias=True)\n",
      "        (fc2): Linear(in_features=20, out_features=20, bias=True)\n",
      "      )\n",
      "      (gate): Gate()\n",
      "      (fc_individual): Linear(in_features=20, out_features=3, bias=True)\n",
      "      (fc_aggregate): Linear(in_features=20, out_features=3, bias=True)\n",
      "    )\n",
      "  )\n",
      ")\n",
      "\n",
      "\n",
      "Training for 30 Epochs:\n",
      "\n",
      "Epoch: 1, Average Loss: 17.377, Val Metric: 77.4, nfeatures: [5, 9, 8, 4, 7, 9, 7, 8, 9, 8], Overlap: 15\n",
      "Epoch: 2, Average Loss: 15.130, Val Metric: 77.9, nfeatures: [3, 7, 6, 4, 7, 6, 5, 8, 9, 7], Overlap: 15\n",
      "Epoch: 3, Average Loss: 13.763, Val Metric: 81.4, nfeatures: [3, 5, 6, 4, 6, 6, 4, 7, 8, 7], Overlap: 15\n",
      "Epoch: 4, Average Loss: 12.908, Val Metric: 80.6, nfeatures: [3, 5, 5, 4, 5, 5, 4, 6, 7, 7], Overlap: 15\n",
      "Epoch: 5, Average Loss: 12.307, Val Metric: 80.1, nfeatures: [2, 4, 4, 4, 5, 4, 4, 4, 7, 6], Overlap: 14\n",
      "Epoch: 6, Average Loss: 11.856, Val Metric: 78.1, nfeatures: [1, 4, 4, 4, 5, 2, 4, 2, 7, 5], Overlap: 11\n",
      "Epoch: 7, Average Loss: 11.520, Val Metric: 79.5, nfeatures: [1, 4, 4, 4, 5, 1, 2, 2, 7, 5], Overlap: 11\n",
      "Epoch: 8, Average Loss: 11.267, Val Metric: 79.7, nfeatures: [1, 4, 4, 4, 5, 1, 2, 1, 5, 5], Overlap: 11\n",
      "Epoch: 9, Average Loss: 11.034, Val Metric: 80.6, nfeatures: [1, 4, 4, 3, 4, 1, 2, 1, 5, 5], Overlap: 11\n",
      "Epoch: 10, Average Loss: 10.874, Val Metric: 80.5, nfeatures: [1, 4, 4, 2, 3, 1, 2, 1, 5, 4], Overlap: 9\n",
      "Epoch: 11, Average Loss: 10.733, Val Metric: 80.7, nfeatures: [1, 4, 4, 2, 2, 1, 2, 1, 5, 4], Overlap: 9\n",
      "Epoch: 12, Average Loss: 10.590, Val Metric: 80.7, nfeatures: [1, 4, 3, 2, 2, 1, 2, 1, 5, 3], Overlap: 8\n",
      "Epoch: 13, Average Loss: 10.481, Val Metric: 80.8, nfeatures: [1, 3, 2, 2, 2, 1, 2, 1, 5, 3], Overlap: 6\n",
      "Epoch: 14, Average Loss: 10.394, Val Metric: 80.7, nfeatures: [1, 3, 2, 2, 2, 1, 2, 1, 5, 3], Overlap: 6\n",
      "Epoch: 15, Average Loss: 10.328, Val Metric: 80.5, nfeatures: [1, 3, 2, 2, 2, 1, 2, 1, 5, 3], Overlap: 6\n",
      "Epoch: 16, Average Loss: 10.260, Val Metric: 81.0, nfeatures: [1, 3, 2, 2, 2, 1, 2, 1, 5, 3], Overlap: 6\n",
      "Epoch: 17, Average Loss: 10.191, Val Metric: 81.1, nfeatures: [1, 3, 2, 2, 2, 1, 2, 1, 5, 3], Overlap: 6\n",
      "Epoch: 18, Average Loss: 10.142, Val Metric: 81.2, nfeatures: [1, 3, 2, 2, 2, 1, 2, 1, 5, 3], Overlap: 6\n",
      "Epoch: 19, Average Loss: 10.084, Val Metric: 81.3, nfeatures: [1, 3, 2, 2, 2, 1, 2, 1, 5, 3], Overlap: 6\n",
      "Epoch: 20, Average Loss: 10.052, Val Metric: 81.0, nfeatures: [1, 3, 2, 2, 2, 1, 2, 1, 5, 3], Overlap: 6\n",
      "Epoch: 21, Average Loss: 10.019, Val Metric: 81.3, nfeatures: [1, 3, 2, 2, 2, 1, 2, 1, 5, 3], Overlap: 6\n",
      "Epoch: 22, Average Loss: 9.997, Val Metric: 81.1, nfeatures: [1, 3, 2, 2, 2, 1, 2, 1, 5, 3], Overlap: 6\n",
      "Epoch: 23, Average Loss: 9.943, Val Metric: 80.8, nfeatures: [1, 3, 2, 2, 2, 1, 2, 1, 5, 3], Overlap: 6\n",
      "Epoch: 24, Average Loss: 9.931, Val Metric: 81.0, nfeatures: [1, 3, 2, 2, 2, 1, 2, 1, 5, 3], Overlap: 6\n",
      "Epoch: 25, Average Loss: 9.900, Val Metric: 81.2, nfeatures: [1, 3, 2, 2, 2, 1, 2, 1, 5, 3], Overlap: 6\n",
      "Epoch: 26, Average Loss: 9.890, Val Metric: 81.2, nfeatures: [1, 3, 2, 2, 2, 1, 2, 1, 5, 3], Overlap: 6\n",
      "Epoch: 27, Average Loss: 9.862, Val Metric: 81.2, nfeatures: [1, 3, 2, 2, 2, 1, 2, 1, 5, 3], Overlap: 6\n",
      "Epoch: 28, Average Loss: 9.828, Val Metric: 81.2, nfeatures: [1, 3, 2, 2, 2, 1, 2, 1, 5, 2], Overlap: 6\n",
      "Epoch: 29, Average Loss: 9.849, Val Metric: 81.2, nfeatures: [1, 3, 2, 2, 2, 1, 2, 1, 5, 2], Overlap: 6\n",
      "Epoch: 30, Average Loss: 9.819, Val Metric: 81.2, nfeatures: [1, 3, 2, 2, 2, 1, 2, 1, 5, 2], Overlap: 6\n"
     ]
    }
   ],
   "source": [
    "train_data = NumpyDataset(X_train, y_train, classification=is_classification)\n",
    "val_data = NumpyDataset(X_val, y_val, classification=is_classification)\n",
    "model = TorchModel(compfs_config)\n",
    "model.train(train_data, val_data)"
   ]
  },
  {
   "cell_type": "code",
   "execution_count": 45,
   "metadata": {},
   "outputs": [
    {
     "data": {
      "text/plain": [
       "array([1], dtype=int64)"
      ]
     },
     "execution_count": 45,
     "metadata": {},
     "output_type": "execute_result"
    }
   ],
   "source": [
    "model.get_groups()[0]"
   ]
  },
  {
   "cell_type": "code",
   "execution_count": 46,
   "metadata": {
    "colab": {
     "base_uri": "https://localhost:8080/"
    },
    "id": "9tiWX3lWGXcf",
    "outputId": "ce83a0d1-c833-4858-84ed-844db72df098"
   },
   "outputs": [
    {
     "name": "stdout",
     "output_type": "stream",
     "text": [
      "\n",
      "\n",
      "Group Structure:\n",
      "Group Similarity: 0.167, True Positive Rate: 100.000%, False Discovery Rate: 83.333%\n",
      "Number of True Groups: 2, Number of Predicted Groups: 9\n",
      "\n",
      "\n",
      "Selected Features:\n",
      "Group: 1, Features: [1]\n",
      "Group: 2, Features: [ 4  9 14]\n",
      "Group: 3, Features: [ 5 11]\n",
      "Group: 4, Features: [12 13]\n",
      "Group: 5, Features: [0 7]\n",
      "Group: 6, Features: [13]\n",
      "Group: 7, Features: [2 9]\n",
      "Group: 8, Features: [ 1  2  3  5 12]\n",
      "Group: 9, Features: [2 5]\n"
     ]
    }
   ],
   "source": [
    "# Get group similarity and group structure.\n",
    "tpr, fdr = tpr_fdr(ground_truth_groups, model.get_groups())\n",
    "group_sim, ntrue, npredicted = gsim(ground_truth_groups, model.get_groups())\n",
    "\n",
    "print(\"\\n\\nGroup Structure:\")\n",
    "print(\n",
    "    \"Group Similarity: {:.3f}, True Positive Rate: {:.3f}%, False Discovery Rate: {:.3f}%\".format(\n",
    "        group_sim, tpr, fdr\n",
    "    )\n",
    ")\n",
    "print(\n",
    "    \"Number of True Groups: {}, Number of Predicted Groups: {}\".format(\n",
    "        ntrue, npredicted\n",
    "    )\n",
    ")\n",
    "\n",
    "# Give selected features and save the groups.\n",
    "print(\"\\n\\nSelected Features:\")\n",
    "learnt_groups = model.get_groups()\n",
    "for i in range(len(learnt_groups)):\n",
    "    print(\"Group: {}, Features: {}\".format(i + 1, learnt_groups[i]))"
   ]
  },
  {
   "cell_type": "markdown",
   "metadata": {
    "id": "Wsn30ZLfIIgF"
   },
   "source": [
    "We see that the model finds the features, usually separating features 0 and 1, occasionally grouping them together."
   ]
  },
  {
   "cell_type": "code",
   "execution_count": 55,
   "metadata": {},
   "outputs": [],
   "source": [
    "X=x.iloc[:, [0,1,2,3,4,5,7,9,11,13,12,14]]\n"
   ]
  },
  {
   "cell_type": "code",
   "execution_count": 56,
   "metadata": {},
   "outputs": [
    {
     "name": "stdout",
     "output_type": "stream",
     "text": [
      "交叉验证准确率: 0.98 +/- 0.01\n"
     ]
    },
    {
     "data": {
      "image/png": "[encoded data removed]",
      "text/plain": [
       "<Figure size 640x480 with 2 Axes>"
      ]
     },
     "metadata": {},
     "output_type": "display_data"
    },
    {
     "name": "stdout",
     "output_type": "stream",
     "text": [
      "准确率: 0.99\n"
     ]
    }
   ],
   "source": [
    "import numpy as np\n",
    "from sklearn.ensemble import RandomForestClassifier\n",
    "from sklearn.model_selection import cross_val_score, train_test_split\n",
    "from sklearn.metrics import confusion_matrix, ConfusionMatrixDisplay\n",
    "import pandas as pd\n",
    "import matplotlib.pyplot as plt\n",
    "from sklearn.model_selection import cross_validate\n",
    "from sklearn.metrics import accuracy_score\n",
    "# 拆分数据集\n",
    "X_train, X_test, y_train, y_test = train_test_split(X, y, test_size=0.2, random_state=42)\n",
    "# 创建随机森林分类器\n",
    "rf_clf = RandomForestClassifier(n_estimators=100, random_state=42)\n",
    "# 交叉验证\n",
    "cv_scores = cross_val_score(rf_clf, X, y, cv=5)\n",
    "cv_results = cross_validate(rf_clf, X, y, cv=10, scoring='accuracy', return_train_score=False)\n",
    "\n",
    "# 计算误差（1 - 准确率）\n",
    "errors = 1 - cv_results['test_score']\n",
    "print(f\"交叉验证准确率: {np.mean(cv_scores):.2f} +/- {np.std(cv_scores):.2f}\")\n",
    "rf_clf.fit(X_train, y_train)\n",
    "# 在测试集上进行预测\n",
    "y_pred = rf_clf.predict(X_test)\n",
    "# 计算混淆矩阵\n",
    "cm = confusion_matrix(y_test, y_pred)\n",
    "\n",
    "# 可视化混淆矩阵\n",
    "disp = ConfusionMatrixDisplay(confusion_matrix=cm)\n",
    "disp.plot()\n",
    "plt.show()\n",
    "accuracy = accuracy_score(y_test, y_pred)\n",
    "\n",
    "# 输出准确率\n",
    "print(f'准确率: {accuracy:.2f}')"
   ]
  },
  {
   "cell_type": "code",
   "execution_count": 57,
   "metadata": {},
   "outputs": [
    {
     "name": "stderr",
     "output_type": "stream",
     "text": [
      "c:\\Users\\74860\\kanenv\\lib\\site-packages\\xgboost\\core.py:158: UserWarning: [12:51:12] WARNING: C:\\buildkite-agent\\builds\\buildkite-windows-cpu-autoscaling-group-i-0015a694724fa8361-1\\xgboost\\xgboost-ci-windows\\src\\learner.cc:740: \n",
      "Parameters: { \"use_label_encoder\" } are not used.\n",
      "\n",
      "  warnings.warn(smsg, UserWarning)\n",
      "c:\\Users\\74860\\kanenv\\lib\\site-packages\\xgboost\\core.py:158: UserWarning: [12:51:13] WARNING: C:\\buildkite-agent\\builds\\buildkite-windows-cpu-autoscaling-group-i-0015a694724fa8361-1\\xgboost\\xgboost-ci-windows\\src\\learner.cc:740: \n",
      "Parameters: { \"use_label_encoder\" } are not used.\n",
      "\n",
      "  warnings.warn(smsg, UserWarning)\n",
      "c:\\Users\\74860\\kanenv\\lib\\site-packages\\xgboost\\core.py:158: UserWarning: [12:51:13] WARNING: C:\\buildkite-agent\\builds\\buildkite-windows-cpu-autoscaling-group-i-0015a694724fa8361-1\\xgboost\\xgboost-ci-windows\\src\\learner.cc:740: \n",
      "Parameters: { \"use_label_encoder\" } are not used.\n",
      "\n",
      "  warnings.warn(smsg, UserWarning)\n",
      "c:\\Users\\74860\\kanenv\\lib\\site-packages\\xgboost\\core.py:158: UserWarning: [12:51:13] WARNING: C:\\buildkite-agent\\builds\\buildkite-windows-cpu-autoscaling-group-i-0015a694724fa8361-1\\xgboost\\xgboost-ci-windows\\src\\learner.cc:740: \n",
      "Parameters: { \"use_label_encoder\" } are not used.\n",
      "\n",
      "  warnings.warn(smsg, UserWarning)\n",
      "c:\\Users\\74860\\kanenv\\lib\\site-packages\\xgboost\\core.py:158: UserWarning: [12:51:13] WARNING: C:\\buildkite-agent\\builds\\buildkite-windows-cpu-autoscaling-group-i-0015a694724fa8361-1\\xgboost\\xgboost-ci-windows\\src\\learner.cc:740: \n",
      "Parameters: { \"use_label_encoder\" } are not used.\n",
      "\n",
      "  warnings.warn(smsg, UserWarning)\n",
      "c:\\Users\\74860\\kanenv\\lib\\site-packages\\xgboost\\core.py:158: UserWarning: [12:51:14] WARNING: C:\\buildkite-agent\\builds\\buildkite-windows-cpu-autoscaling-group-i-0015a694724fa8361-1\\xgboost\\xgboost-ci-windows\\src\\learner.cc:740: \n",
      "Parameters: { \"use_label_encoder\" } are not used.\n",
      "\n",
      "  warnings.warn(smsg, UserWarning)\n",
      "c:\\Users\\74860\\kanenv\\lib\\site-packages\\xgboost\\core.py:158: UserWarning: [12:51:14] WARNING: C:\\buildkite-agent\\builds\\buildkite-windows-cpu-autoscaling-group-i-0015a694724fa8361-1\\xgboost\\xgboost-ci-windows\\src\\learner.cc:740: \n",
      "Parameters: { \"use_label_encoder\" } are not used.\n",
      "\n",
      "  warnings.warn(smsg, UserWarning)\n",
      "c:\\Users\\74860\\kanenv\\lib\\site-packages\\xgboost\\core.py:158: UserWarning: [12:51:14] WARNING: C:\\buildkite-agent\\builds\\buildkite-windows-cpu-autoscaling-group-i-0015a694724fa8361-1\\xgboost\\xgboost-ci-windows\\src\\learner.cc:740: \n",
      "Parameters: { \"use_label_encoder\" } are not used.\n",
      "\n",
      "  warnings.warn(smsg, UserWarning)\n",
      "c:\\Users\\74860\\kanenv\\lib\\site-packages\\xgboost\\core.py:158: UserWarning: [12:51:15] WARNING: C:\\buildkite-agent\\builds\\buildkite-windows-cpu-autoscaling-group-i-0015a694724fa8361-1\\xgboost\\xgboost-ci-windows\\src\\learner.cc:740: \n",
      "Parameters: { \"use_label_encoder\" } are not used.\n",
      "\n",
      "  warnings.warn(smsg, UserWarning)\n",
      "c:\\Users\\74860\\kanenv\\lib\\site-packages\\xgboost\\core.py:158: UserWarning: [12:51:15] WARNING: C:\\buildkite-agent\\builds\\buildkite-windows-cpu-autoscaling-group-i-0015a694724fa8361-1\\xgboost\\xgboost-ci-windows\\src\\learner.cc:740: \n",
      "Parameters: { \"use_label_encoder\" } are not used.\n",
      "\n",
      "  warnings.warn(smsg, UserWarning)\n",
      "c:\\Users\\74860\\kanenv\\lib\\site-packages\\xgboost\\core.py:158: UserWarning: [12:51:15] WARNING: C:\\buildkite-agent\\builds\\buildkite-windows-cpu-autoscaling-group-i-0015a694724fa8361-1\\xgboost\\xgboost-ci-windows\\src\\learner.cc:740: \n",
      "Parameters: { \"use_label_encoder\" } are not used.\n",
      "\n",
      "  warnings.warn(smsg, UserWarning)\n",
      "c:\\Users\\74860\\kanenv\\lib\\site-packages\\xgboost\\core.py:158: UserWarning: [12:51:15] WARNING: C:\\buildkite-agent\\builds\\buildkite-windows-cpu-autoscaling-group-i-0015a694724fa8361-1\\xgboost\\xgboost-ci-windows\\src\\learner.cc:740: \n",
      "Parameters: { \"use_label_encoder\" } are not used.\n",
      "\n",
      "  warnings.warn(smsg, UserWarning)\n",
      "c:\\Users\\74860\\kanenv\\lib\\site-packages\\xgboost\\core.py:158: UserWarning: [12:51:16] WARNING: C:\\buildkite-agent\\builds\\buildkite-windows-cpu-autoscaling-group-i-0015a694724fa8361-1\\xgboost\\xgboost-ci-windows\\src\\learner.cc:740: \n",
      "Parameters: { \"use_label_encoder\" } are not used.\n",
      "\n",
      "  warnings.warn(smsg, UserWarning)\n",
      "c:\\Users\\74860\\kanenv\\lib\\site-packages\\xgboost\\core.py:158: UserWarning: [12:51:16] WARNING: C:\\buildkite-agent\\builds\\buildkite-windows-cpu-autoscaling-group-i-0015a694724fa8361-1\\xgboost\\xgboost-ci-windows\\src\\learner.cc:740: \n",
      "Parameters: { \"use_label_encoder\" } are not used.\n",
      "\n",
      "  warnings.warn(smsg, UserWarning)\n",
      "c:\\Users\\74860\\kanenv\\lib\\site-packages\\xgboost\\core.py:158: UserWarning: [12:51:16] WARNING: C:\\buildkite-agent\\builds\\buildkite-windows-cpu-autoscaling-group-i-0015a694724fa8361-1\\xgboost\\xgboost-ci-windows\\src\\learner.cc:740: \n",
      "Parameters: { \"use_label_encoder\" } are not used.\n",
      "\n",
      "  warnings.warn(smsg, UserWarning)\n"
     ]
    },
    {
     "name": "stdout",
     "output_type": "stream",
     "text": [
      "交叉验证准确率: 0.99 +/- 0.01\n"
     ]
    },
    {
     "name": "stderr",
     "output_type": "stream",
     "text": [
      "c:\\Users\\74860\\kanenv\\lib\\site-packages\\xgboost\\core.py:158: UserWarning: [12:51:17] WARNING: C:\\buildkite-agent\\builds\\buildkite-windows-cpu-autoscaling-group-i-0015a694724fa8361-1\\xgboost\\xgboost-ci-windows\\src\\learner.cc:740: \n",
      "Parameters: { \"use_label_encoder\" } are not used.\n",
      "\n",
      "  warnings.warn(smsg, UserWarning)\n"
     ]
    },
    {
     "data": {
      "image/png": "[encoded data removed]",
      "text/plain": [
       "<Figure size 640x480 with 2 Axes>"
      ]
     },
     "metadata": {},
     "output_type": "display_data"
    },
    {
     "name": "stdout",
     "output_type": "stream",
     "text": [
      "准确率: 0.99\n"
     ]
    }
   ],
   "source": [
    "import numpy as np\n",
    "import xgboost as xgb\n",
    "from sklearn.model_selection import train_test_split, cross_val_score, cross_validate\n",
    "from sklearn.metrics import confusion_matrix, ConfusionMatrixDisplay, accuracy_score\n",
    "import pandas as pd\n",
    "import matplotlib.pyplot as plt\n",
    "\n",
    "# 拆分数据集\n",
    "X_train, X_test, y_train, y_test = train_test_split(X, y, test_size=0.2, random_state=42)\n",
    "\n",
    "# 创建XGBoost分类器，注意这里使用'mlogloss'作为评估指标\n",
    "xgb_clf = xgb.XGBClassifier(use_label_encoder=False, eval_metric='mlogloss', n_estimators=100, random_state=42)\n",
    "\n",
    "# 交叉验证\n",
    "cv_scores = cross_val_score(xgb_clf, X, y, cv=5)\n",
    "cv_results = cross_validate(xgb_clf, X, y, cv=10, scoring='accuracy', return_train_score=False)\n",
    "\n",
    "# 计算误差（1 - 准确率）\n",
    "errors = 1 - cv_results['test_score']\n",
    "print(f\"交叉验证准确率: {np.mean(cv_scores):.2f} +/- {np.std(cv_scores):.2f}\")\n",
    "\n",
    "# 训练模型\n",
    "xgb_clf.fit(X_train, y_train)\n",
    "\n",
    "# 在测试集上进行预测\n",
    "y_pred = xgb_clf.predict(X_test)\n",
    "\n",
    "# 计算混淆矩阵\n",
    "cm = confusion_matrix(y_test, y_pred)\n",
    "\n",
    "# 可视化混淆矩阵\n",
    "disp = ConfusionMatrixDisplay(confusion_matrix=cm)\n",
    "disp.plot()\n",
    "plt.show()\n",
    "\n",
    "# 计算准确率\n",
    "accuracy = accuracy_score(y_test, y_pred)\n",
    "\n",
    "# 输出准确率\n",
    "print(f'准确率: {accuracy:.2f}')"
   ]
  },
  {
   "cell_type": "code",
   "execution_count": 50,
   "metadata": {},
   "outputs": [
    {
     "data": {
      "image/png": "[encoded data removed]",
      "text/plain": [
       "<Figure size 640x480 with 1 Axes>"
      ]
     },
     "metadata": {},
     "output_type": "display_data"
    }
   ],
   "source": [
    "import matplotlib.pyplot as plt\n",
    "\n",
    "# 假设 cv_scores 是交叉验证得到的得分数组\n",
    "plt.boxplot(cv_scores)\n",
    "plt.title('Cross-validation scores')\n",
    "plt.ylabel('Accuracy')\n",
    "plt.show()\n"
   ]
  },
  {
   "cell_type": "code",
   "execution_count": 51,
   "metadata": {},
   "outputs": [
    {
     "data": {
      "image/png": "[encoded data removed]",
      "text/plain": [
       "<Figure size 640x480 with 1 Axes>"
      ]
     },
     "metadata": {},
     "output_type": "display_data"
    }
   ],
   "source": [
    "plt.hist(cv_scores, bins=5)\n",
    "plt.title('Distribution of cross-validation scores')\n",
    "plt.xlabel('Accuracy')\n",
    "plt.ylabel('Frequency')\n",
    "plt.show()"
   ]
  },
  {
   "cell_type": "code",
   "execution_count": 52,
   "metadata": {},
   "outputs": [
    {
     "data": {
      "image/png": "[encoded data removed]",
      "text/plain": [
       "<Figure size 640x480 with 1 Axes>"
      ]
     },
     "metadata": {},
     "output_type": "display_data"
    }
   ],
   "source": [
    "import seaborn as sns\n",
    "\n",
    "sns.violinplot(data=cv_scores)\n",
    "plt.title('Cross-validation scores distribution')\n",
    "plt.show()"
   ]
  },
  {
   "cell_type": "code",
   "execution_count": 53,
   "metadata": {},
   "outputs": [
    {
     "data": {
      "image/png": "[encoded data removed]",
      "text/plain": [
       "<Figure size 640x480 with 1 Axes>"
      ]
     },
     "metadata": {},
     "output_type": "display_data"
    }
   ],
   "source": [
    "sns.kdeplot(cv_scores)\n",
    "plt.title('Kernel Density Estimate of Cross-validation Scores')\n",
    "plt.xlabel('Accuracy')\n",
    "plt.ylabel('Density')\n",
    "plt.show()"
   ]
  },
  {
   "cell_type": "code",
   "execution_count": 54,
   "metadata": {},
   "outputs": [
    {
     "data": {
      "image/png": "[encoded data removed]",
      "text/plain": [
       "<Figure size 640x480 with 1 Axes>"
      ]
     },
     "metadata": {},
     "output_type": "display_data"
    }
   ],
   "source": [
    "# 假设 errors 是一个包含每次交叉验证误差的数组\n",
    "errors = 1 - cv_results['test_score']\n",
    "plt.bar(range(len(errors)), errors)\n",
    "plt.title('Error rates across folds')\n",
    "plt.xlabel('Fold')\n",
    "plt.ylabel('Error Rate')\n",
    "plt.show()"
   ]
  },
  {
   "cell_type": "code",
   "execution_count": 63,
   "metadata": {},
   "outputs": [],
   "source": [
    "import pandas as pd\n",
    "import torch\n",
    "from sklearn.model_selection import train_test_split\n",
    "from torch.utils.data import Dataset, TensorDataset\n",
    "# 指定文件路径\n",
    "file_path = '附件二（测试集）.xlsx'"
   ]
  },
  {
   "cell_type": "code",
   "execution_count": 68,
   "metadata": {},
   "outputs": [
    {
     "data": {
      "text/html": [
       "<div>\n",
       "<style scoped>\n",
       "    .dataframe tbody tr th:only-of-type {\n",
       "        vertical-align: middle;\n",
       "    }\n",
       "\n",
       "    .dataframe tbody tr th {\n",
       "        vertical-align: top;\n",
       "    }\n",
       "\n",
       "    .dataframe thead th {\n",
       "        text-align: right;\n",
       "    }\n",
       "</style>\n",
       "<table border=\"1\" class=\"dataframe\">\n",
       "  <thead>\n",
       "    <tr style=\"text-align: right;\">\n",
       "      <th></th>\n",
       "      <th>max</th>\n",
       "      <th>min</th>\n",
       "      <th>mean</th>\n",
       "      <th>std</th>\n",
       "      <th>fg</th>\n",
       "      <th>mean_magnitude</th>\n",
       "      <th>variance_magnitude</th>\n",
       "      <th>mean_power</th>\n",
       "      <th>variance_power</th>\n",
       "      <th>peak_magnitude</th>\n",
       "      <th>peak_frequency</th>\n",
       "      <th>energy_focus</th>\n",
       "      <th>center_frequency</th>\n",
       "      <th>total_energy</th>\n",
       "      <th>total_variance</th>\n",
       "    </tr>\n",
       "  </thead>\n",
       "  <tbody>\n",
       "    <tr>\n",
       "      <th>0</th>\n",
       "      <td>2.453005</td>\n",
       "      <td>-1.424633</td>\n",
       "      <td>-0.104683</td>\n",
       "      <td>1.168244</td>\n",
       "      <td>3.877638</td>\n",
       "      <td>3.573859</td>\n",
       "      <td>1395.998041</td>\n",
       "      <td>1408.770512</td>\n",
       "      <td>5.446874e+08</td>\n",
       "      <td>718.289081</td>\n",
       "      <td>1.0</td>\n",
       "      <td>1.0</td>\n",
       "      <td>-6.750156e-12</td>\n",
       "      <td>1.442581e+06</td>\n",
       "      <td>1.429502e+06</td>\n",
       "    </tr>\n",
       "    <tr>\n",
       "      <th>1</th>\n",
       "      <td>0.541229</td>\n",
       "      <td>-0.568185</td>\n",
       "      <td>-0.022133</td>\n",
       "      <td>0.369466</td>\n",
       "      <td>1.109414</td>\n",
       "      <td>0.932110</td>\n",
       "      <td>139.414021</td>\n",
       "      <td>140.282850</td>\n",
       "      <td>7.865776e+06</td>\n",
       "      <td>251.706954</td>\n",
       "      <td>1.0</td>\n",
       "      <td>1.0</td>\n",
       "      <td>-6.792777e-11</td>\n",
       "      <td>1.436496e+05</td>\n",
       "      <td>1.427600e+05</td>\n",
       "    </tr>\n",
       "    <tr>\n",
       "      <th>2</th>\n",
       "      <td>1.646878</td>\n",
       "      <td>-0.708835</td>\n",
       "      <td>-0.070785</td>\n",
       "      <td>0.641318</td>\n",
       "      <td>2.355713</td>\n",
       "      <td>2.168126</td>\n",
       "      <td>421.589967</td>\n",
       "      <td>426.290737</td>\n",
       "      <td>3.751878e+07</td>\n",
       "      <td>359.534976</td>\n",
       "      <td>1.0</td>\n",
       "      <td>1.0</td>\n",
       "      <td>-2.276601e-11</td>\n",
       "      <td>4.365217e+05</td>\n",
       "      <td>4.317081e+05</td>\n",
       "    </tr>\n",
       "    <tr>\n",
       "      <th>3</th>\n",
       "      <td>0.527895</td>\n",
       "      <td>-0.665557</td>\n",
       "      <td>-0.015968</td>\n",
       "      <td>0.448719</td>\n",
       "      <td>1.193452</td>\n",
       "      <td>0.959222</td>\n",
       "      <td>205.522037</td>\n",
       "      <td>206.442145</td>\n",
       "      <td>1.999674e+07</td>\n",
       "      <td>318.221389</td>\n",
       "      <td>1.0</td>\n",
       "      <td>1.0</td>\n",
       "      <td>-4.963940e-11</td>\n",
       "      <td>2.113968e+05</td>\n",
       "      <td>2.104546e+05</td>\n",
       "    </tr>\n",
       "    <tr>\n",
       "      <th>4</th>\n",
       "      <td>1.867141</td>\n",
       "      <td>-0.926841</td>\n",
       "      <td>-0.080734</td>\n",
       "      <td>0.792452</td>\n",
       "      <td>2.793981</td>\n",
       "      <td>2.559143</td>\n",
       "      <td>643.177233</td>\n",
       "      <td>649.726445</td>\n",
       "      <td>9.810711e+07</td>\n",
       "      <td>462.711246</td>\n",
       "      <td>1.0</td>\n",
       "      <td>1.0</td>\n",
       "      <td>-1.547973e-11</td>\n",
       "      <td>6.653199e+05</td>\n",
       "      <td>6.586135e+05</td>\n",
       "    </tr>\n",
       "    <tr>\n",
       "      <th>...</th>\n",
       "      <td>...</td>\n",
       "      <td>...</td>\n",
       "      <td>...</td>\n",
       "      <td>...</td>\n",
       "      <td>...</td>\n",
       "      <td>...</td>\n",
       "      <td>...</td>\n",
       "      <td>...</td>\n",
       "      <td>...</td>\n",
       "      <td>...</td>\n",
       "      <td>...</td>\n",
       "      <td>...</td>\n",
       "      <td>...</td>\n",
       "      <td>...</td>\n",
       "      <td>...</td>\n",
       "    </tr>\n",
       "    <tr>\n",
       "      <th>75</th>\n",
       "      <td>0.898667</td>\n",
       "      <td>-0.628812</td>\n",
       "      <td>-0.045994</td>\n",
       "      <td>0.571139</td>\n",
       "      <td>1.527479</td>\n",
       "      <td>1.345402</td>\n",
       "      <td>334.384762</td>\n",
       "      <td>336.194869</td>\n",
       "      <td>4.731866e+07</td>\n",
       "      <td>394.168136</td>\n",
       "      <td>1.0</td>\n",
       "      <td>1.0</td>\n",
       "      <td>-3.960998e-11</td>\n",
       "      <td>3.442635e+05</td>\n",
       "      <td>3.424100e+05</td>\n",
       "    </tr>\n",
       "    <tr>\n",
       "      <th>76</th>\n",
       "      <td>0.948857</td>\n",
       "      <td>-0.735724</td>\n",
       "      <td>-0.032081</td>\n",
       "      <td>0.632994</td>\n",
       "      <td>1.684581</td>\n",
       "      <td>1.406236</td>\n",
       "      <td>409.373956</td>\n",
       "      <td>411.351456</td>\n",
       "      <td>7.571524e+07</td>\n",
       "      <td>443.718782</td>\n",
       "      <td>1.0</td>\n",
       "      <td>1.0</td>\n",
       "      <td>-3.053147e-11</td>\n",
       "      <td>4.212239e+05</td>\n",
       "      <td>4.191989e+05</td>\n",
       "    </tr>\n",
       "    <tr>\n",
       "      <th>77</th>\n",
       "      <td>1.009148</td>\n",
       "      <td>-1.862246</td>\n",
       "      <td>-0.208579</td>\n",
       "      <td>0.933125</td>\n",
       "      <td>2.871394</td>\n",
       "      <td>2.236750</td>\n",
       "      <td>931.165512</td>\n",
       "      <td>936.168564</td>\n",
       "      <td>3.118668e+08</td>\n",
       "      <td>627.963941</td>\n",
       "      <td>1.0</td>\n",
       "      <td>1.0</td>\n",
       "      <td>-2.817990e-11</td>\n",
       "      <td>9.586366e+05</td>\n",
       "      <td>9.535135e+05</td>\n",
       "    </tr>\n",
       "    <tr>\n",
       "      <th>78</th>\n",
       "      <td>0.876287</td>\n",
       "      <td>-0.615686</td>\n",
       "      <td>-0.069273</td>\n",
       "      <td>0.503942</td>\n",
       "      <td>1.491973</td>\n",
       "      <td>1.292220</td>\n",
       "      <td>263.297124</td>\n",
       "      <td>264.966955</td>\n",
       "      <td>2.540156e+07</td>\n",
       "      <td>336.019517</td>\n",
       "      <td>1.0</td>\n",
       "      <td>1.0</td>\n",
       "      <td>-5.301559e-11</td>\n",
       "      <td>2.713262e+05</td>\n",
       "      <td>2.696163e+05</td>\n",
       "    </tr>\n",
       "    <tr>\n",
       "      <th>79</th>\n",
       "      <td>0.949338</td>\n",
       "      <td>-0.730408</td>\n",
       "      <td>-0.035343</td>\n",
       "      <td>0.631772</td>\n",
       "      <td>1.679746</td>\n",
       "      <td>1.410276</td>\n",
       "      <td>408.005568</td>\n",
       "      <td>409.994448</td>\n",
       "      <td>7.490856e+07</td>\n",
       "      <td>442.514569</td>\n",
       "      <td>1.0</td>\n",
       "      <td>1.0</td>\n",
       "      <td>-3.163914e-11</td>\n",
       "      <td>4.198343e+05</td>\n",
       "      <td>4.177977e+05</td>\n",
       "    </tr>\n",
       "  </tbody>\n",
       "</table>\n",
       "<p>80 rows × 15 columns</p>\n",
       "</div>"
      ],
      "text/plain": [
       "         max       min      mean       std        fg  mean_magnitude  \\\n",
       "0   2.453005 -1.424633 -0.104683  1.168244  3.877638        3.573859   \n",
       "1   0.541229 -0.568185 -0.022133  0.369466  1.109414        0.932110   \n",
       "2   1.646878 -0.708835 -0.070785  0.641318  2.355713        2.168126   \n",
       "3   0.527895 -0.665557 -0.015968  0.448719  1.193452        0.959222   \n",
       "4   1.867141 -0.926841 -0.080734  0.792452  2.793981        2.559143   \n",
       "..       ...       ...       ...       ...       ...             ...   \n",
       "75  0.898667 -0.628812 -0.045994  0.571139  1.527479        1.345402   \n",
       "76  0.948857 -0.735724 -0.032081  0.632994  1.684581        1.406236   \n",
       "77  1.009148 -1.862246 -0.208579  0.933125  2.871394        2.236750   \n",
       "78  0.876287 -0.615686 -0.069273  0.503942  1.491973        1.292220   \n",
       "79  0.949338 -0.730408 -0.035343  0.631772  1.679746        1.410276   \n",
       "\n",
       "    variance_magnitude   mean_power  variance_power  peak_magnitude  \\\n",
       "0          1395.998041  1408.770512    5.446874e+08      718.289081   \n",
       "1           139.414021   140.282850    7.865776e+06      251.706954   \n",
       "2           421.589967   426.290737    3.751878e+07      359.534976   \n",
       "3           205.522037   206.442145    1.999674e+07      318.221389   \n",
       "4           643.177233   649.726445    9.810711e+07      462.711246   \n",
       "..                 ...          ...             ...             ...   \n",
       "75          334.384762   336.194869    4.731866e+07      394.168136   \n",
       "76          409.373956   411.351456    7.571524e+07      443.718782   \n",
       "77          931.165512   936.168564    3.118668e+08      627.963941   \n",
       "78          263.297124   264.966955    2.540156e+07      336.019517   \n",
       "79          408.005568   409.994448    7.490856e+07      442.514569   \n",
       "\n",
       "    peak_frequency  energy_focus  center_frequency  total_energy  \\\n",
       "0              1.0           1.0     -6.750156e-12  1.442581e+06   \n",
       "1              1.0           1.0     -6.792777e-11  1.436496e+05   \n",
       "2              1.0           1.0     -2.276601e-11  4.365217e+05   \n",
       "3              1.0           1.0     -4.963940e-11  2.113968e+05   \n",
       "4              1.0           1.0     -1.547973e-11  6.653199e+05   \n",
       "..             ...           ...               ...           ...   \n",
       "75             1.0           1.0     -3.960998e-11  3.442635e+05   \n",
       "76             1.0           1.0     -3.053147e-11  4.212239e+05   \n",
       "77             1.0           1.0     -2.817990e-11  9.586366e+05   \n",
       "78             1.0           1.0     -5.301559e-11  2.713262e+05   \n",
       "79             1.0           1.0     -3.163914e-11  4.198343e+05   \n",
       "\n",
       "    total_variance  \n",
       "0     1.429502e+06  \n",
       "1     1.427600e+05  \n",
       "2     4.317081e+05  \n",
       "3     2.104546e+05  \n",
       "4     6.586135e+05  \n",
       "..             ...  \n",
       "75    3.424100e+05  \n",
       "76    4.191989e+05  \n",
       "77    9.535135e+05  \n",
       "78    2.696163e+05  \n",
       "79    4.177977e+05  \n",
       "\n",
       "[80 rows x 15 columns]"
      ]
     },
     "execution_count": 68,
     "metadata": {},
     "output_type": "execute_result"
    }
   ],
   "source": [
    "df = pd.read_excel(file_path, sheet_name='测试集')\n",
    "last_1024_columns = df.iloc[:, -1024:]\n",
    "# df['B'] = last_1024_columns.max(axis=1)\n",
    "import matplotlib.pyplot as plt\n",
    "import matplotlib\n",
    "import numpy as np\n",
    "matplotlib.rcParams['font.sans-serif'] = ['SimHei']  # Windows系统使用SimHei字体\n",
    "matplotlib.rcParams['font.family']='sans-serif'\n",
    "matplotlib.rcParams['axes.unicode_minus'] = False\n",
    "waveforms = ['正弦波', '三角波', '梯形波']\n",
    "sampling_points = 1024\n",
    "df.columns = df.columns.astype(str)\n",
    "df\n",
    "import numpy as np\n",
    "from sklearn.preprocessing import StandardScaler\n",
    "x=df.iloc[:,-1024:]\n",
    "scaler=StandardScaler()\n",
    "x=scaler.fit_transform(x)\n",
    "from scipy.fft import fft\n",
    "feature=pd.DataFrame()\n",
    "feature['max']=np.max(x,axis=1)\n",
    "feature['min']=np.min(x,axis=1)\n",
    "feature['mean']=np.mean(x,axis=1)\n",
    "feature['std']=np.std(x,axis=1)\n",
    "feature['fg']=np.max(x,axis=1)-np.min(x,axis=1)\n",
    "x1=fft(x,axis=1)\n",
    "sampling_rate=1024\n",
    "# 计算幅度\n",
    "magnitude = np.abs(x1)\n",
    "\n",
    "# 计算功率\n",
    "power = magnitude ** 2\n",
    "\n",
    "# 特征提取\n",
    "features = {}\n",
    "\n",
    "# 平均幅度\n",
    "features['mean_magnitude'] = np.mean(magnitude, axis=1)\n",
    "\n",
    "# 幅度方差\n",
    "features['variance_magnitude'] = np.var(magnitude, axis=1)\n",
    "\n",
    "# 平均功率\n",
    "features['mean_power'] = np.mean(power, axis=1)\n",
    "\n",
    "# 功率方差\n",
    "features['variance_power'] = np.var(power, axis=1)\n",
    "\n",
    "# 峰值幅度\n",
    "features['peak_magnitude'] = np.max(magnitude, axis=1)\n",
    "\n",
    "# 峰值频率\n",
    "peak_indices = np.argmax(magnitude, axis=1)\n",
    "features['peak_frequency'] = np.array([np.fft.fftfreq(x.shape[1], d=1/sampling_rate)[idx] for idx in peak_indices])\n",
    "\n",
    "# 能量集中度\n",
    "energy = power / np.sum(power, axis=1, keepdims=True)\n",
    "features['energy_focus'] = np.sum(energy, axis=1)\n",
    "\n",
    "# 中心频率\n",
    "features['center_frequency'] = np.sum(energy * np.fft.fftfreq(x.shape[1], d=1/sampling_rate), axis=1)\n",
    "\n",
    "# # 偏度\n",
    "# features['skewness'] = (np.mean((magnitude - features['mean_magnitude'][:, np.newaxis])**3, axis=1) / (features['variance_magnitude'][:, np.newaxis]**(3/2))).flatten()\n",
    "\n",
    "# # 峰度\n",
    "# features['kurtosis'] = (np.mean((magnitude - features['mean_magnitude'][:, np.newaxis])**4, axis=1) / (features['variance_magnitude'][:, np.newaxis]**2) - 3).flatten()\n",
    "\n",
    "# 总能量\n",
    "features['total_energy'] = np.sum(power, axis=1)\n",
    "\n",
    "# 总方差\n",
    "features['total_variance'] = np.sum((magnitude - features['mean_magnitude'][:, np.newaxis])**2, axis=1)\n",
    "\n",
    "# features=pd.DataFrame(features)\n",
    "features=pd.DataFrame(features)\n",
    "feature=pd.concat([feature,features],axis=1)\n",
    "feature"
   ]
  },
  {
   "cell_type": "code",
   "execution_count": 73,
   "metadata": {},
   "outputs": [
    {
     "name": "stderr",
     "output_type": "stream",
     "text": [
      "c:\\Users\\74860\\kanenv\\lib\\site-packages\\sklearn\\base.py:443: UserWarning: X has feature names, but RandomForestClassifier was fitted without feature names\n",
      "  warnings.warn(\n"
     ]
    }
   ],
   "source": [
    "X_test=feature.iloc[:, [0,1,2,3,4,5,7,9,11,13,12,14]]\n",
    "y_pred = rf_clf.predict(X_test)\n",
    "pd.DataFrame(y_pred).to_csv('bx.csv')"
   ]
  },
  {
   "cell_type": "code",
   "execution_count": null,
   "metadata": {},
   "outputs": [],
   "source": []
  }
 ],
 "metadata": {
  "colab": {
   "provenance": []
  },
  "kernelspec": {
   "display_name": "Python 3 (ipykernel)",
   "language": "python",
   "name": "python3"
  },
  "language_info": {
   "codemirror_mode": {
    "name": "ipython",
    "version": 3
   },
   "file_extension": ".py",
   "mimetype": "text/x-python",
   "name": "python",
   "nbconvert_exporter": "python",
   "pygments_lexer": "ipython3",
   "version": "3.9.7"
  }
 },
 "nbformat": 4,
 "nbformat_minor": 1
}
